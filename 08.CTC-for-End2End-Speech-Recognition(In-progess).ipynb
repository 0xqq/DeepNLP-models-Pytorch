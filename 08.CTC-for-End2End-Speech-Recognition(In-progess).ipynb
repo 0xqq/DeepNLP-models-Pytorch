{
 "cells": [
  {
   "cell_type": "markdown",
   "metadata": {},
   "source": [
    "# 08. CTC-for-End2End-Speech-Recognition"
   ]
  },
  {
   "cell_type": "markdown",
   "metadata": {},
   "source": [
    "* http://web.stanford.edu/class/cs224n/lectures/cs224n-2017-lecture12.pdf\n",
    "* https://github.com/SeanNaren/warp-ctc/tree/pytorch_bindings/pytorch_binding"
   ]
  },
  {
   "cell_type": "code",
   "execution_count": 2,
   "metadata": {
    "collapsed": true
   },
   "outputs": [],
   "source": [
    "import nltk\n",
    "import librosa\n",
    "import os\n",
    "import random\n",
    "import numpy as np\n",
    "import torch\n",
    "import torch.nn as nn\n",
    "from torch.autograd import Variable\n",
    "import torch.optim as optim\n",
    "import torch.nn.functional as F\n",
    "from warpctc_pytorch import CTCLoss"
   ]
  },
  {
   "cell_type": "code",
   "execution_count": 21,
   "metadata": {
    "collapsed": true
   },
   "outputs": [],
   "source": [
    "USE_CUDA = False#torch.cuda.is_available()\n",
    "\n",
    "FloatTensor = torch.cuda.FloatTensor if USE_CUDA else torch.FloatTensor\n",
    "IntTensor = torch.cuda.Intensor if USE_CUDA else torch.IntTensor\n",
    "ByteTensor = torch.cuda.ByteTensor if USE_CUDA else torch.ByteTensor"
   ]
  },
  {
   "cell_type": "code",
   "execution_count": 22,
   "metadata": {
    "collapsed": false
   },
   "outputs": [],
   "source": [
    "def prepare_sequence(seq, to_index):\n",
    "    filtered_seq = list(filter(lambda x: x in to_index.keys(),seq))\n",
    "    idxs = list(map(lambda w: to_index[w], filtered_seq))\n",
    "    return Variable(IntTensor(idxs))"
   ]
  },
  {
   "cell_type": "markdown",
   "metadata": {},
   "source": [
    "# Data load and Preprocessing"
   ]
  },
  {
   "cell_type": "code",
   "execution_count": 7,
   "metadata": {
    "collapsed": true
   },
   "outputs": [],
   "source": [
    "paths=[]"
   ]
  },
  {
   "cell_type": "code",
   "execution_count": 8,
   "metadata": {
    "collapsed": true
   },
   "outputs": [],
   "source": [
    "for path in nltk.corpus.timit.abspaths():\n",
    "    if path.path.endswith('.wav'):\n",
    "        base = '/'.join(path.path.split('/')[:-1])\n",
    "        sid = path.path.split('/')[-1][:-4]\n",
    "        paths.append([path.path,base+'/'+sid+'.txt'])"
   ]
  },
  {
   "cell_type": "code",
   "execution_count": 9,
   "metadata": {
    "collapsed": true
   },
   "outputs": [],
   "source": [
    "data=[]"
   ]
  },
  {
   "cell_type": "code",
   "execution_count": 11,
   "metadata": {
    "collapsed": false
   },
   "outputs": [],
   "source": [
    "for path in paths:\n",
    "    y, sr = librosa.load(path[0],sr=16000)\n",
    "    feature = librosa.feature.mfcc(y,sr,n_mfcc=26)\n",
    "    label = list('_'.join(open(path[1],'r').readline()[:-1].lower().split()[2:]))[:-1]\n",
    "    data.append([feature,label])"
   ]
  },
  {
   "cell_type": "code",
   "execution_count": 12,
   "metadata": {
    "collapsed": true
   },
   "outputs": [],
   "source": [
    "char_vocab = ['<blank>','a','b','c','d','e','f','g','h','i','j','k',\n",
    "           'l','m','n','o','p','q','r','s','t','u','v','w','x','y','z','_']\n",
    "\n",
    "char2index={}\n",
    "for ch in char_vocab:\n",
    "    char2index[ch]=len(char2index)\n",
    "index2char={v:k for k,v in char2index.items()}"
   ]
  },
  {
   "cell_type": "code",
   "execution_count": 13,
   "metadata": {
    "collapsed": false
   },
   "outputs": [
    {
     "data": {
      "text/plain": [
       "'<blank>'"
      ]
     },
     "execution_count": 13,
     "metadata": {},
     "output_type": "execute_result"
    }
   ],
   "source": [
    "index2char[0] # the index 0 is reserved for the blank symbol"
   ]
  },
  {
   "cell_type": "code",
   "execution_count": 23,
   "metadata": {
    "collapsed": true
   },
   "outputs": [],
   "source": [
    "random.shuffle(data)\n",
    "train = data[:int(len(data)*0.9)]\n",
    "test = data[int(len(data)*0.9):]"
   ]
  },
  {
   "cell_type": "code",
   "execution_count": 24,
   "metadata": {
    "collapsed": true
   },
   "outputs": [],
   "source": [
    "train_X,train_y = list(zip(*train))\n",
    "test_X,test_y = list(zip(*test))"
   ]
  },
  {
   "cell_type": "code",
   "execution_count": 25,
   "metadata": {
    "collapsed": false
   },
   "outputs": [],
   "source": [
    "train_X = [Variable(FloatTensor(x.T)) for x in train_X]\n",
    "train_y = [prepare_sequence(y,char2index).unsqueeze(0) for y in train_y]\n",
    "train_data = list(zip(train_X,train_y))"
   ]
  },
  {
   "cell_type": "code",
   "execution_count": 26,
   "metadata": {
    "collapsed": true
   },
   "outputs": [],
   "source": [
    "test_X = [Variable(FloatTensor(x.T)) for x in test_X]\n",
    "test_data = list(zip(test_X,test_y))"
   ]
  },
  {
   "cell_type": "code",
   "execution_count": 27,
   "metadata": {
    "collapsed": true
   },
   "outputs": [],
   "source": [
    "class SimpleCTC(nn.Module): \n",
    "    def __init__(self,input_size,hidden_size,output_size):\n",
    "\n",
    "        super(SimpleCTC, self).__init__()\n",
    "        self.hidden_size = hidden_size\n",
    "        self.rnn = nn.GRU(input_size,hidden_size,1,batch_first=True)\n",
    "        self.linear = nn.Linear(hidden_size,output_size)\n",
    "        \n",
    "    def init_hidden(self,inputs):\n",
    "        hidden = Variable(torch.zeros(1,inputs.size(0),self.hidden_size))\n",
    "        return hidden.cuda() if USE_CUDA else hidden\n",
    "        \n",
    "    def forward(self, inputs): \n",
    "        hidden = self.init_hidden(inputs)\n",
    "        out,hidden = self.rnn(inputs,hidden)\n",
    "        \n",
    "        # expected shape of seqLength x batchSize x alphabet_size\n",
    "        return F.log_softmax(self.linear(out.contiguous().view(out.size(0)*out.size(1),-1))).unsqueeze(inputs.size(0)) "
   ]
  },
  {
   "cell_type": "code",
   "execution_count": 58,
   "metadata": {
    "collapsed": true
   },
   "outputs": [],
   "source": [
    "HIDDEN_SIZE=100\n",
    "STEP=100\n",
    "LR=0.01"
   ]
  },
  {
   "cell_type": "code",
   "execution_count": 59,
   "metadata": {
    "collapsed": true
   },
   "outputs": [],
   "source": [
    "model = SimpleCTC(26,HIDDEN_SIZE,len(char2index))\n",
    "if USE_CUDA:\n",
    "    model = model.cuda()\n",
    "ctc_loss = CTCLoss()\n",
    "optimizer = optim.Adam(model.parameters(),lr=LR)"
   ]
  },
  {
   "cell_type": "code",
   "execution_count": 60,
   "metadata": {
    "collapsed": false
   },
   "outputs": [
    {
     "name": "stdout",
     "output_type": "stream",
     "text": [
      "[0/100] loss : 143.75\n",
      "[1/100] loss : 139.72\n",
      "[2/100] loss : 138.25\n",
      "[3/100] loss : 137.55\n",
      "[4/100] loss : 136.45\n",
      "[5/100] loss : 135.93\n",
      "[6/100] loss : 135.86\n",
      "[7/100] loss : 134.72\n",
      "[8/100] loss : 134.87\n",
      "[9/100] loss : 134.79\n",
      "[10/100] loss : 134.40\n",
      "[11/100] loss : 133.43\n",
      "[12/100] loss : 133.35\n",
      "[13/100] loss : 133.55\n",
      "[14/100] loss : 133.18\n",
      "[15/100] loss : 132.26\n",
      "[16/100] loss : 133.09\n",
      "[17/100] loss : 131.91\n",
      "[18/100] loss : 131.81\n",
      "[19/100] loss : 132.07\n",
      "[20/100] loss : 132.04\n",
      "[21/100] loss : 132.29\n",
      "[22/100] loss : 131.60\n",
      "[23/100] loss : 132.52\n",
      "[24/100] loss : 131.50\n",
      "[25/100] loss : 131.23\n",
      "[26/100] loss : 130.80\n",
      "[27/100] loss : 132.71\n",
      "[28/100] loss : 132.01\n",
      "[29/100] loss : 133.07\n",
      "[30/100] loss : 131.83\n",
      "[31/100] loss : 131.94\n",
      "[32/100] loss : 131.82\n",
      "[33/100] loss : 131.07\n",
      "[34/100] loss : 130.75\n"
     ]
    },
    {
     "ename": "KeyboardInterrupt",
     "evalue": "",
     "output_type": "error",
     "traceback": [
      "\u001b[0;31m---------------------------------------------------------------------------\u001b[0m",
      "\u001b[0;31mKeyboardInterrupt\u001b[0m                         Traceback (most recent call last)",
      "\u001b[0;32m<ipython-input-60-00f277eaf3b6>\u001b[0m in \u001b[0;36m<module>\u001b[0;34m()\u001b[0m\n\u001b[1;32m      9\u001b[0m         \u001b[0mloss\u001b[0m \u001b[0;34m=\u001b[0m \u001b[0mctc_loss\u001b[0m\u001b[0;34m(\u001b[0m\u001b[0mprobs\u001b[0m\u001b[0;34m,\u001b[0m \u001b[0mlabels\u001b[0m\u001b[0;34m,\u001b[0m \u001b[0mprobs_sizes\u001b[0m\u001b[0;34m,\u001b[0m \u001b[0mlabel_sizes\u001b[0m\u001b[0;34m)\u001b[0m\u001b[0;34m\u001b[0m\u001b[0m\n\u001b[1;32m     10\u001b[0m         \u001b[0mlosses\u001b[0m\u001b[0;34m.\u001b[0m\u001b[0mappend\u001b[0m\u001b[0;34m(\u001b[0m\u001b[0mloss\u001b[0m\u001b[0;34m.\u001b[0m\u001b[0mdata\u001b[0m\u001b[0;34m.\u001b[0m\u001b[0mtolist\u001b[0m\u001b[0;34m(\u001b[0m\u001b[0;34m)\u001b[0m\u001b[0;34m[\u001b[0m\u001b[0;36m0\u001b[0m\u001b[0;34m]\u001b[0m\u001b[0;34m)\u001b[0m\u001b[0;34m\u001b[0m\u001b[0m\n\u001b[0;32m---> 11\u001b[0;31m         \u001b[0mloss\u001b[0m\u001b[0;34m.\u001b[0m\u001b[0mbackward\u001b[0m\u001b[0;34m(\u001b[0m\u001b[0;34m)\u001b[0m\u001b[0;34m\u001b[0m\u001b[0m\n\u001b[0m\u001b[1;32m     12\u001b[0m         \u001b[0moptimizer\u001b[0m\u001b[0;34m.\u001b[0m\u001b[0mstep\u001b[0m\u001b[0;34m(\u001b[0m\u001b[0;34m)\u001b[0m\u001b[0;34m\u001b[0m\u001b[0m\n\u001b[1;32m     13\u001b[0m \u001b[0;34m\u001b[0m\u001b[0m\n",
      "\u001b[0;32m/usr/local/lib/python3.5/dist-packages/torch/autograd/variable.py\u001b[0m in \u001b[0;36mbackward\u001b[0;34m(self, gradient, retain_graph, create_graph, retain_variables)\u001b[0m\n\u001b[1;32m    155\u001b[0m                 \u001b[0mVariable\u001b[0m\u001b[0;34m.\u001b[0m\u001b[0;34m\u001b[0m\u001b[0m\n\u001b[1;32m    156\u001b[0m         \"\"\"\n\u001b[0;32m--> 157\u001b[0;31m         \u001b[0mtorch\u001b[0m\u001b[0;34m.\u001b[0m\u001b[0mautograd\u001b[0m\u001b[0;34m.\u001b[0m\u001b[0mbackward\u001b[0m\u001b[0;34m(\u001b[0m\u001b[0mself\u001b[0m\u001b[0;34m,\u001b[0m \u001b[0mgradient\u001b[0m\u001b[0;34m,\u001b[0m \u001b[0mretain_graph\u001b[0m\u001b[0;34m,\u001b[0m \u001b[0mcreate_graph\u001b[0m\u001b[0;34m,\u001b[0m \u001b[0mretain_variables\u001b[0m\u001b[0;34m)\u001b[0m\u001b[0;34m\u001b[0m\u001b[0m\n\u001b[0m\u001b[1;32m    158\u001b[0m \u001b[0;34m\u001b[0m\u001b[0m\n\u001b[1;32m    159\u001b[0m     \u001b[0;32mdef\u001b[0m \u001b[0mregister_hook\u001b[0m\u001b[0;34m(\u001b[0m\u001b[0mself\u001b[0m\u001b[0;34m,\u001b[0m \u001b[0mhook\u001b[0m\u001b[0;34m)\u001b[0m\u001b[0;34m:\u001b[0m\u001b[0;34m\u001b[0m\u001b[0m\n",
      "\u001b[0;32m/usr/local/lib/python3.5/dist-packages/torch/autograd/__init__.py\u001b[0m in \u001b[0;36mbackward\u001b[0;34m(variables, grad_variables, retain_graph, create_graph, retain_variables)\u001b[0m\n\u001b[1;32m     96\u001b[0m \u001b[0;34m\u001b[0m\u001b[0m\n\u001b[1;32m     97\u001b[0m     Variable._execution_engine.run_backward(\n\u001b[0;32m---> 98\u001b[0;31m         variables, grad_variables, retain_graph)\n\u001b[0m\u001b[1;32m     99\u001b[0m \u001b[0;34m\u001b[0m\u001b[0m\n\u001b[1;32m    100\u001b[0m \u001b[0;34m\u001b[0m\u001b[0m\n",
      "\u001b[0;31mKeyboardInterrupt\u001b[0m: "
     ]
    }
   ],
   "source": [
    "for step in range(STEP):\n",
    "    losses=[]\n",
    "    for pair in train_data:\n",
    "        model.zero_grad()\n",
    "        probs = model(pair[0].unsqueeze(0))\n",
    "        labels = pair[1].squeeze(0)\n",
    "        label_sizes = Variable(IntTensor([labels.size(0)]))\n",
    "        probs_sizes = Variable(IntTensor([probs.size(0)]))\n",
    "        loss = ctc_loss(probs, labels, probs_sizes, label_sizes)\n",
    "        losses.append(loss.data.tolist()[0])\n",
    "        loss.backward()\n",
    "        optimizer.step()\n",
    "        \n",
    "    print(\"[%d/%d] loss : %0.2f\" %(step,STEP,np.mean(losses)))\n",
    "    losses=[]"
   ]
  },
  {
   "cell_type": "markdown",
   "metadata": {},
   "source": [
    "# TODO "
   ]
  },
  {
   "cell_type": "markdown",
   "metadata": {},
   "source": [
    "* batch, gpu\n",
    "* decode"
   ]
  },
  {
   "cell_type": "markdown",
   "metadata": {},
   "source": [
    "It needs more test..."
   ]
  },
  {
   "cell_type": "code",
   "execution_count": 115,
   "metadata": {
    "collapsed": false
   },
   "outputs": [],
   "source": []
  }
 ],
 "metadata": {
  "kernelspec": {
   "display_name": "Python 3",
   "language": "python",
   "name": "python3"
  },
  "language_info": {
   "codemirror_mode": {
    "name": "ipython",
    "version": 3
   },
   "file_extension": ".py",
   "mimetype": "text/x-python",
   "name": "python",
   "nbconvert_exporter": "python",
   "pygments_lexer": "ipython3",
   "version": "3.5.2"
  }
 },
 "nbformat": 4,
 "nbformat_minor": 2
}
