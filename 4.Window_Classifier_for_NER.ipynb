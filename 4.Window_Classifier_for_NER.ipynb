{
 "cells": [
  {
   "cell_type": "code",
   "execution_count": 1,
   "metadata": {
    "collapsed": true
   },
   "outputs": [],
   "source": [
    "import torch\n",
    "import torch.nn as nn\n",
    "from torch.autograd import Variable\n",
    "import torch.optim as optim\n",
    "import torch.nn.functional as F\n",
    "import nltk\n",
    "import random\n",
    "import numpy as np\n",
    "from collections import Counter\n",
    "flatten = lambda l: [item for sublist in l for item in sublist]"
   ]
  },
  {
   "cell_type": "code",
   "execution_count": 2,
   "metadata": {
    "collapsed": false
   },
   "outputs": [],
   "source": [
    "USE_CUDA = torch.cuda.is_available()"
   ]
  },
  {
   "cell_type": "code",
   "execution_count": 15,
   "metadata": {
    "collapsed": true
   },
   "outputs": [],
   "source": [
    "def getBatch(batch_size,train_data):\n",
    "    random.shuffle(train_data)\n",
    "    sindex=0\n",
    "    eindex=batch_size\n",
    "    while eindex < len(train_data):\n",
    "        batch = train_data[sindex:eindex]\n",
    "        temp = eindex\n",
    "        eindex = eindex+batch_size\n",
    "        sindex = temp\n",
    "        yield batch\n",
    "    \n",
    "    if eindex >= len(train_data):\n",
    "        batch = train_data[sindex:]\n",
    "        yield batch"
   ]
  },
  {
   "cell_type": "code",
   "execution_count": 16,
   "metadata": {
    "collapsed": true
   },
   "outputs": [],
   "source": [
    "def make_word_vector(sents, word2index):\n",
    "    idxs = list(map(lambda w: word2index[w] if w in word2index.keys() else word2index[\"<UNK>\"], sents))\n",
    "    tensor = Variable(torch.LongTensor(idxs)).cuda() if USE_CUDA else  Variable(torch.LongTensor(idxs))\n",
    "    return tensor\n",
    "\n",
    "def make_tag_vector(tag,tag2index):\n",
    "    tensor = Variable(torch.LongTensor([tag2index[tag]]))\n",
    "    if USE_CUDA:\n",
    "        tensor = tensor.cuda()\n",
    "    return tensor"
   ]
  },
  {
   "cell_type": "markdown",
   "metadata": {},
   "source": [
    "### Data load & processing "
   ]
  },
  {
   "cell_type": "code",
   "execution_count": 3,
   "metadata": {
    "collapsed": false
   },
   "outputs": [],
   "source": [
    "corpus = nltk.corpus.conll2002.iob_sents()"
   ]
  },
  {
   "cell_type": "code",
   "execution_count": 4,
   "metadata": {
    "collapsed": true
   },
   "outputs": [],
   "source": [
    "pdata=[]\n",
    "for cor in corpus:\n",
    "    sent,_,tag = list(zip(*cor))\n",
    "    pdata.append([sent,tag])"
   ]
  },
  {
   "cell_type": "code",
   "execution_count": 6,
   "metadata": {
    "collapsed": false
   },
   "outputs": [
    {
     "name": "stdout",
     "output_type": "stream",
     "text": [
      "35651\n",
      "[('Sao', 'Paulo', '(', 'Brasil', ')', ',', '23', 'may', '(', 'EFECOM', ')', '.'), ('B-LOC', 'I-LOC', 'O', 'B-LOC', 'O', 'O', 'O', 'O', 'O', 'B-ORG', 'O', 'O')]\n"
     ]
    }
   ],
   "source": [
    "print(len(pdata))\n",
    "print(pdata[0])"
   ]
  },
  {
   "cell_type": "code",
   "execution_count": 7,
   "metadata": {
    "collapsed": false
   },
   "outputs": [],
   "source": [
    "samples = pdata\n",
    "#samples = random.sample(pdata,1000) # sampling for practice"
   ]
  },
  {
   "cell_type": "code",
   "execution_count": 8,
   "metadata": {
    "collapsed": true
   },
   "outputs": [],
   "source": [
    "sents,tags = list(zip(*samples))\n",
    "vocab = list(set(flatten(sents)))\n",
    "tagset = list(set(flatten(tags)))"
   ]
  },
  {
   "cell_type": "code",
   "execution_count": 9,
   "metadata": {
    "collapsed": true
   },
   "outputs": [],
   "source": [
    "word2index={'<UNK>' : 0, '<DUMMY>' : 1}\n",
    "for vo in vocab:\n",
    "    if vo not in word2index.keys():\n",
    "        word2index[vo]=len(word2index)\n",
    "index2word = {v:k for k,v in word2index.items()}\n",
    "\n",
    "tag2index = {}\n",
    "for tag in tagset:\n",
    "    if tag not in tag2index.keys():\n",
    "        tag2index[tag]=len(tag2index)\n",
    "index2tag={v:k for k,v in tag2index.items()}"
   ]
  },
  {
   "cell_type": "code",
   "execution_count": 10,
   "metadata": {
    "collapsed": true
   },
   "outputs": [],
   "source": [
    "WINDOW_SIZE=2\n",
    "windows=[]"
   ]
  },
  {
   "cell_type": "code",
   "execution_count": 12,
   "metadata": {
    "collapsed": false
   },
   "outputs": [],
   "source": [
    "for sample in samples:\n",
    "    dummy=['<DUMMY>']*WINDOW_SIZE\n",
    "    window = list(nltk.ngrams(dummy+list(sample[0])+dummy,WINDOW_SIZE*2+1))\n",
    "    windows.extend([[list(window[i]),sample[1][i]] for i in range(len(sample[0]))])"
   ]
  },
  {
   "cell_type": "code",
   "execution_count": 44,
   "metadata": {
    "collapsed": false
   },
   "outputs": [
    {
     "data": {
      "text/plain": [
       "[['strijdig', 'gevonden', 'met', 'de', 'wet'], 'O']"
      ]
     },
     "execution_count": 44,
     "metadata": {},
     "output_type": "execute_result"
    }
   ],
   "source": [
    "windows[0]"
   ]
  },
  {
   "cell_type": "code",
   "execution_count": 13,
   "metadata": {
    "collapsed": false
   },
   "outputs": [
    {
     "data": {
      "text/plain": [
       "678377"
      ]
     },
     "execution_count": 13,
     "metadata": {},
     "output_type": "execute_result"
    }
   ],
   "source": [
    "len(windows)"
   ]
  },
  {
   "cell_type": "code",
   "execution_count": 14,
   "metadata": {
    "collapsed": false
   },
   "outputs": [],
   "source": [
    "random.shuffle(windows)\n",
    "\n",
    "train_data = windows[:int(len(windows)*0.9)]\n",
    "test_data = windows[int(len(windows)*0.9):]"
   ]
  },
  {
   "cell_type": "markdown",
   "metadata": {},
   "source": [
    "### Modeling "
   ]
  },
  {
   "cell_type": "code",
   "execution_count": 17,
   "metadata": {
    "collapsed": true
   },
   "outputs": [],
   "source": [
    "class WindowClassifier(nn.Module): \n",
    "    def __init__(self,vocab_size,embedding_size,window_size,hidden_size,output_size):\n",
    "\n",
    "        super(WindowClassifier, self).__init__()\n",
    "        \n",
    "        self.embed = nn.Embedding(vocab_size,embedding_size)\n",
    "        self.h_layer1 = nn.Linear(embedding_size*(window_size*2+1), hidden_size)\n",
    "        self.h_layer2 = nn.Linear(hidden_size, hidden_size)\n",
    "        self.o_layer = nn.Linear(hidden_size,output_size)\n",
    "        self.relu = nn.ReLU()\n",
    "        self.softmax = nn.LogSoftmax()\n",
    "        self.dropout = nn.Dropout(0.7)\n",
    "        \n",
    "    def forward(self, inputs,is_training=False): \n",
    "        embeds = self.embed(inputs) # BxWxD\n",
    "        concated = embeds.view(-1,embeds.size(1)*embeds.size(2)) # Bx(W*D)\n",
    "        h0 = self.relu(self.h_layer1(concated))\n",
    "        if is_training:\n",
    "            h0 = self.dropout(h0)\n",
    "        h1 = self.relu(self.h_layer2(h0))\n",
    "        if is_training:\n",
    "            h1 = self.dropout(h1)\n",
    "        out = self.softmax(self.o_layer(h1))\n",
    "        return out"
   ]
  },
  {
   "cell_type": "code",
   "execution_count": 18,
   "metadata": {
    "collapsed": true
   },
   "outputs": [],
   "source": [
    "BATCH_SIZE=128\n",
    "EMBEDDING_SIZE=50 # x (WINDOW_SIZE*2+1) = 250\n",
    "HIDDEN_SIZE=300\n",
    "STEP=5\n",
    "LEARNING_RATE = 0.001"
   ]
  },
  {
   "cell_type": "markdown",
   "metadata": {},
   "source": [
    "### Training "
   ]
  },
  {
   "cell_type": "code",
   "execution_count": 21,
   "metadata": {
    "collapsed": false
   },
   "outputs": [],
   "source": [
    "model = WindowClassifier(len(word2index),EMBEDDING_SIZE,WINDOW_SIZE,HIDDEN_SIZE,len(tag2index))\n",
    "if USE_CUDA:\n",
    "    model = model.cuda()\n",
    "loss_function = nn.CrossEntropyLoss()\n",
    "optimizer = optim.Adam(model.parameters(),lr=LEARNING_RATE)"
   ]
  },
  {
   "cell_type": "code",
   "execution_count": 22,
   "metadata": {
    "collapsed": false
   },
   "outputs": [
    {
     "name": "stdout",
     "output_type": "stream",
     "text": [
      "[0/5] : 2.41\n",
      "[0/5] : 0.53\n",
      "[0/5] : 0.46\n",
      "[0/5] : 0.40\n",
      "[0/5] : 0.36\n",
      "[1/5] : 0.24\n",
      "[1/5] : 0.29\n",
      "[1/5] : 0.28\n",
      "[1/5] : 0.27\n",
      "[1/5] : 0.25\n",
      "[2/5] : 0.21\n",
      "[2/5] : 0.22\n",
      "[2/5] : 0.22\n",
      "[2/5] : 0.21\n",
      "[2/5] : 0.20\n",
      "[3/5] : 0.18\n",
      "[3/5] : 0.18\n",
      "[3/5] : 0.17\n",
      "[3/5] : 0.17\n",
      "[3/5] : 0.17\n",
      "[4/5] : 0.25\n",
      "[4/5] : 0.15\n",
      "[4/5] : 0.15\n",
      "[4/5] : 0.15\n",
      "[4/5] : 0.15\n"
     ]
    }
   ],
   "source": [
    "for step in range(STEP):\n",
    "    losses=[]\n",
    "    for i,batch in enumerate(getBatch(BATCH_SIZE,train_data)):\n",
    "        x,y=list(zip(*batch))\n",
    "        inputs = torch.cat([make_word_vector(sent,word2index).view(1,-1) for sent in x])\n",
    "        targets = torch.cat([make_tag_vector(tag,tag2index) for tag in y])\n",
    "        model.zero_grad()\n",
    "        preds = model(inputs,is_training=True)\n",
    "        loss = loss_function(preds,targets)\n",
    "        losses.append(loss.data.cpu().numpy()[0] if USE_CUDA else loss.data.numpy()[0] )\n",
    "        loss.backward()\n",
    "        optimizer.step()\n",
    "\n",
    "        if i % 1000==0:\n",
    "            print(\"[%d/%d] : %0.2f\" %(step,STEP,np.mean(losses)))\n",
    "            losses=[]"
   ]
  },
  {
   "cell_type": "markdown",
   "metadata": {},
   "source": [
    "### Test "
   ]
  },
  {
   "cell_type": "code",
   "execution_count": 43,
   "metadata": {
    "collapsed": false
   },
   "outputs": [
    {
     "name": "stdout",
     "output_type": "stream",
     "text": [
      "95.74574722132138\n"
     ]
    }
   ],
   "source": [
    "accuracy=0\n",
    "for test in test_data:\n",
    "    x,y = test[0],test[1]\n",
    "    input_ = make_word_vector(x,word2index).view(1,-1)\n",
    "\n",
    "    pred = model(input_)\n",
    "    v,i = torch.max(pred,1)\n",
    "    pred = index2tag[i.data.cpu().tolist()[0]] if USE_CUDA else index2tag[i.data.tolist()[0]]\n",
    "    if pred==y:\n",
    "        accuracy+=1\n",
    "\n",
    "print(accuracy/len(test_data)*100)\n",
    "# print(index2tag[i.data.cpu().tolist()[0]] if USE_CUDA else index2tag[i.data.tolist()[0]] )\n",
    "# print(y)"
   ]
  },
  {
   "cell_type": "markdown",
   "metadata": {
    "collapsed": true
   },
   "source": [
    "### TODO "
   ]
  },
  {
   "cell_type": "markdown",
   "metadata": {},
   "source": [
    "* 사이킷런 eval로 F1 score(Confusion matrix 출력)"
   ]
  },
  {
   "cell_type": "code",
   "execution_count": null,
   "metadata": {
    "collapsed": true
   },
   "outputs": [],
   "source": []
  }
 ],
 "metadata": {
  "kernelspec": {
   "display_name": "Python 3",
   "language": "python",
   "name": "python3"
  },
  "language_info": {
   "codemirror_mode": {
    "name": "ipython",
    "version": 3
   },
   "file_extension": ".py",
   "mimetype": "text/x-python",
   "name": "python",
   "nbconvert_exporter": "python",
   "pygments_lexer": "ipython3",
   "version": "3.5.2"
  }
 },
 "nbformat": 4,
 "nbformat_minor": 2
}
