{
 "cells": [
  {
   "cell_type": "markdown",
   "metadata": {},
   "source": [
    "# 12. \tDynamic Memory Networks for Question Answering"
   ]
  },
  {
   "cell_type": "markdown",
   "metadata": {},
   "source": [
    "* http://web.stanford.edu/class/cs224n/lectures/cs224n-2017-lecture16-DMN-QA.pdf\n",
    "* https://arxiv.org/abs/1506.07285"
   ]
  },
  {
   "cell_type": "code",
   "execution_count": 1,
   "metadata": {
    "collapsed": true
   },
   "outputs": [],
   "source": [
    "import torch\n",
    "import torch.nn as nn\n",
    "from torch.autograd import Variable\n",
    "import torch.optim as optim\n",
    "import torch.nn.functional as F\n",
    "import nltk\n",
    "import random\n",
    "import numpy as np\n",
    "from collections import Counter, OrderedDict\n",
    "import nltk\n",
    "from copy import deepcopy\n",
    "import os\n",
    "import re\n",
    "import unicodedata\n",
    "flatten = lambda l: [item for sublist in l for item in sublist]\n",
    "\n",
    "from torch.nn.utils.rnn import PackedSequence,pack_padded_sequence"
   ]
  },
  {
   "cell_type": "code",
   "execution_count": 2,
   "metadata": {
    "collapsed": true
   },
   "outputs": [],
   "source": [
    "USE_CUDA = torch.cuda.is_available()\n",
    "\n",
    "FloatTensor = torch.cuda.FloatTensor if USE_CUDA else torch.FloatTensor\n",
    "LongTensor = torch.cuda.LongTensor if USE_CUDA else torch.LongTensor\n",
    "ByteTensor = torch.cuda.ByteTensor if USE_CUDA else torch.ByteTensor"
   ]
  },
  {
   "cell_type": "code",
   "execution_count": 3,
   "metadata": {
    "collapsed": true
   },
   "outputs": [],
   "source": [
    "def getBatch(batch_size,train_data):\n",
    "    random.shuffle(train_data)\n",
    "    sindex=0\n",
    "    eindex=batch_size\n",
    "    while eindex < len(train_data):\n",
    "        batch = train_data[sindex:eindex]\n",
    "        temp = eindex\n",
    "        eindex = eindex+batch_size\n",
    "        sindex = temp\n",
    "        yield batch\n",
    "    \n",
    "    if eindex >= len(train_data):\n",
    "        batch = train_data[sindex:]\n",
    "        yield batch"
   ]
  },
  {
   "cell_type": "code",
   "execution_count": 4,
   "metadata": {
    "collapsed": true
   },
   "outputs": [],
   "source": [
    "def pad_to_batch(batch,w_to_ix): # for bAbI dataset\n",
    "    fact,q,a = list(zip(*batch))\n",
    "    max_fact = max([len(f) for f in fact])\n",
    "    max_len = max([f.size(1) for f in flatten(fact)])\n",
    "    max_q = max([qq.size(1) for qq in q])\n",
    "    max_a = max([aa.size(1) for aa in a])\n",
    "    \n",
    "    facts,fact_masks,q_p,a_p=[],[],[],[]\n",
    "    for i in range(len(batch)):\n",
    "        fact_p_t=[]\n",
    "        for j in range(len(fact[i])):\n",
    "            if fact[i][j].size(1)<max_len:\n",
    "                fact_p_t.append(torch.cat([fact[i][j],Variable(LongTensor([w_to_ix['<PAD>']]*(max_len-fact[i][j].size(1)))).view(1,-1)],1))\n",
    "            else:\n",
    "                fact_p_t.append(fact[i][j])\n",
    "\n",
    "        while len(fact_p_t)<max_fact:\n",
    "            fact_p_t.append(Variable(LongTensor([w_to_ix['<PAD>']]*max_len)).view(1,-1))\n",
    "\n",
    "        fact_p_t = torch.cat(fact_p_t)\n",
    "        facts.append(fact_p_t)\n",
    "        fact_masks.append(torch.cat([Variable(ByteTensor(tuple(map(lambda s: s ==0, t.data))),volatile=False) for t in fact_p_t]).view(fact_p_t.size(0),-1))\n",
    "\n",
    "        if q[i].size(1)<max_q:\n",
    "            q_p.append(torch.cat([q[i],Variable(LongTensor([w_to_ix['<PAD>']]*(max_q-q[i].size(1)))).view(1,-1)],1))\n",
    "        else:\n",
    "            q_p.append(q[i])\n",
    "\n",
    "        if a[i].size(1)<max_a:\n",
    "            a_p.append(torch.cat([a[i],Variable(LongTensor([w_to_ix['<PAD>']]*(max_a-a[i].size(1)))).view(1,-1)],1))\n",
    "        else:\n",
    "            a_p.append(a[i])\n",
    "\n",
    "    questions = torch.cat(q_p)\n",
    "    answers = torch.cat(a_p)\n",
    "    question_masks = torch.cat([Variable(ByteTensor(tuple(map(lambda s: s ==0, t.data))),volatile=False) for t in questions]).view(questions.size(0),-1)\n",
    "    \n",
    "    return facts, fact_masks, questions, question_masks, answers"
   ]
  },
  {
   "cell_type": "code",
   "execution_count": 5,
   "metadata": {
    "collapsed": true
   },
   "outputs": [],
   "source": [
    "def prepare_sequence(seq, to_index):\n",
    "    idxs = list(map(lambda w: to_index[w] if w in to_index.keys() else to_index[\"<UNK>\"], seq))\n",
    "    return Variable(LongTensor(idxs))"
   ]
  },
  {
   "cell_type": "markdown",
   "metadata": {},
   "source": [
    "### Data load and Preprocessing "
   ]
  },
  {
   "cell_type": "code",
   "execution_count": 7,
   "metadata": {
    "collapsed": true
   },
   "outputs": [],
   "source": [
    "# DIR_PATH='../dataset/corpus/bAbI/en-10k/'\n",
    "# flist = os.listdir(DIR_PATH)\n",
    "\n",
    "# data=[]\n",
    "# for f in flist:\n",
    "#     #if f.endswith('train.txt'):\n",
    "#         fname = DIR_PATH+f\n",
    "#         #print(fname)\n",
    "#         temp = open(fname,'r',encoding='utf-8').readlines()\n",
    "#         temp = [t[:-1] for t in temp]\n",
    "#         data.extend(temp)"
   ]
  },
  {
   "cell_type": "code",
   "execution_count": 69,
   "metadata": {
    "collapsed": true
   },
   "outputs": [],
   "source": [
    "data = open('../dataset/corpus/bAbI/en-10k/qa5_three-arg-relations_train.txt').readlines()\n",
    "data = [d[:-1] for d in data]"
   ]
  },
  {
   "cell_type": "code",
   "execution_count": 8,
   "metadata": {
    "collapsed": false
   },
   "outputs": [
    {
     "name": "stdout",
     "output_type": "stream",
     "text": [
      "10000\n"
     ]
    }
   ],
   "source": [
    "count=0\n",
    "for d in data:\n",
    "    if '?' in d:\n",
    "        count+=1\n",
    "print(count)"
   ]
  },
  {
   "cell_type": "code",
   "execution_count": 9,
   "metadata": {
    "collapsed": true
   },
   "outputs": [],
   "source": [
    "train=[]\n",
    "fact=[]\n",
    "qa=[]"
   ]
  },
  {
   "cell_type": "code",
   "execution_count": 10,
   "metadata": {
    "collapsed": true
   },
   "outputs": [],
   "source": [
    "for d in data:\n",
    "\n",
    "    index = d.split(' ')[0]\n",
    "    if index=='1':\n",
    "        fact=[]\n",
    "        qa=[]\n",
    "        \n",
    "    if '?' in d:\n",
    "        temp = d.split('\\t')\n",
    "        q = temp[0].strip().replace('?','').split(' ')[1:]+['?']\n",
    "        a = temp[1].split()+['</s>']\n",
    "        #f = [int(t)-1 for t in temp[2].split()]\n",
    "        stemp = deepcopy(fact)\n",
    "\n",
    "        train.append([stemp,q,a])\n",
    "    else:\n",
    "        tokens = d.replace('.','').split(' ')[1:]+['</s>']\n",
    "        fact.append(tokens)"
   ]
  },
  {
   "cell_type": "code",
   "execution_count": 11,
   "metadata": {
    "collapsed": false
   },
   "outputs": [
    {
     "data": {
      "text/plain": [
       "[[['Bill', 'travelled', 'to', 'the', 'office', '</s>'],\n",
       "  ['Bill', 'picked', 'up', 'the', 'football', 'there', '</s>'],\n",
       "  ['Bill', 'went', 'to', 'the', 'bedroom', '</s>'],\n",
       "  ['Bill', 'gave', 'the', 'football', 'to', 'Fred', '</s>']],\n",
       " ['What', 'did', 'Bill', 'give', 'to', 'Fred', '?'],\n",
       " ['football', '</s>']]"
      ]
     },
     "execution_count": 11,
     "metadata": {},
     "output_type": "execute_result"
    }
   ],
   "source": [
    "train[0]"
   ]
  },
  {
   "cell_type": "code",
   "execution_count": 12,
   "metadata": {
    "collapsed": true
   },
   "outputs": [],
   "source": [
    "fact,q,a = list(zip(*train))"
   ]
  },
  {
   "cell_type": "code",
   "execution_count": 13,
   "metadata": {
    "collapsed": true
   },
   "outputs": [],
   "source": [
    "vocab = list(set(flatten(flatten(fact))+flatten(q)+flatten(a)))"
   ]
  },
  {
   "cell_type": "code",
   "execution_count": 61,
   "metadata": {
    "collapsed": true
   },
   "outputs": [],
   "source": [
    "word2index={'<PAD>':0,'<UNK>':1,'<s>':2,'</s>':3}\n",
    "for vo in vocab:\n",
    "    if vo not in word2index.keys():\n",
    "        word2index[vo]=len(word2index)\n",
    "index2word = {v:k for k,v in word2index.items()}"
   ]
  },
  {
   "cell_type": "code",
   "execution_count": 62,
   "metadata": {
    "collapsed": false
   },
   "outputs": [
    {
     "data": {
      "text/plain": [
       "44"
      ]
     },
     "execution_count": 62,
     "metadata": {},
     "output_type": "execute_result"
    }
   ],
   "source": [
    "len(word2index)"
   ]
  },
  {
   "cell_type": "code",
   "execution_count": 16,
   "metadata": {
    "collapsed": true
   },
   "outputs": [],
   "source": [
    "for t in train:\n",
    "    for i,fact in enumerate(t[0]):\n",
    "        t[0][i] = prepare_sequence(fact,word2index).view(1,-1)\n",
    "    \n",
    "    t[1] = prepare_sequence(t[1],word2index).view(1,-1)\n",
    "    t[2] = prepare_sequence(t[2],word2index).view(1,-1)"
   ]
  },
  {
   "cell_type": "markdown",
   "metadata": {},
   "source": [
    "### Modeling "
   ]
  },
  {
   "cell_type": "code",
   "execution_count": 17,
   "metadata": {
    "collapsed": true
   },
   "outputs": [],
   "source": [
    "class DMN(nn.Module):\n",
    "    def __init__(self, input_size,hidden_size,output_size,dropout_p=0.1):\n",
    "        super(DMN, self).__init__()\n",
    "        \n",
    "        self.hidden_size = hidden_size\n",
    "        self.embed = nn.Embedding(input_size, hidden_size, padding_idx=0) #sparse=True)\n",
    "        self.input_gru = nn.GRU(hidden_size, hidden_size,batch_first=True)\n",
    "        self.question_gru = nn.GRU(hidden_size, hidden_size,batch_first=True)\n",
    "        \n",
    "        self.gate = nn.Sequential(\n",
    "                            nn.Linear(hidden_size*4,hidden_size),\n",
    "                            nn.Tanh(),\n",
    "                            nn.Linear(hidden_size,1),\n",
    "                            nn.Sigmoid()\n",
    "                        )\n",
    "        \n",
    "        self.attention_grucell =  nn.GRUCell(hidden_size, hidden_size)\n",
    "        self.memory_grucell = nn.GRUCell(hidden_size,hidden_size)\n",
    "        self.answer_grucell = nn.GRUCell(hidden_size*2, hidden_size)\n",
    "        self.answer_fc = nn.Linear(hidden_size,output_size)\n",
    "        \n",
    "        self.dropout = nn.Dropout(dropout_p)\n",
    "        \n",
    "    def init_hidden(self,inputs):\n",
    "        hidden = Variable(torch.zeros(1,inputs.size(0),self.hidden_size))\n",
    "        return hidden.cuda() if USE_CUDA else hidden\n",
    "    \n",
    "    def init_weight(self):\n",
    "        nn.init.xavier_uniform(self.embed.state_dict()['weight'])\n",
    "        \n",
    "        for name, param in self.input_gru.state_dict().items():\n",
    "            if 'weight' in name: nn.init.xavier_normal(param)\n",
    "        for name, param in self.question_gru.state_dict().items():\n",
    "            if 'weight' in name: nn.init.xavier_normal(param)\n",
    "        for name, param in self.gate.state_dict().items():\n",
    "            if 'weight' in name: nn.init.xavier_normal(param)\n",
    "        for name, param in self.attention_grucell.state_dict().items():\n",
    "            if 'weight' in name: nn.init.xavier_normal(param)\n",
    "        for name, param in self.memory_grucell.state_dict().items():\n",
    "            if 'weight' in name: nn.init.xavier_normal(param)\n",
    "        for name, param in self.answer_grucell.state_dict().items():\n",
    "            if 'weight' in name: nn.init.xavier_normal(param)\n",
    "        \n",
    "        nn.init.xavier_normal(self.answer_fc.state_dict()['weight'])\n",
    "        self.answer_fc.bias.data.fill_(0)\n",
    "        \n",
    "    def forward(self,facts,fact_masks,questions,question_masks,num_decode,episodes=3,training=False):\n",
    "        \"\"\"\n",
    "        facts : (B,T_C,T_I) / LongTensor in List # batch_size, num_of_facts, length_of_each_fact\n",
    "        fact_masks : (B,T_C,T_I) / ByteTensor in List # batch_size, num_of_facts, length_of_each_fact\n",
    "        questions : B,T_Q / LongTensor # batch_size, question_length\n",
    "        question_masks : B,T_Q / ByteTensor # batch_size, question_length\n",
    "        \"\"\"\n",
    "        # Input Module\n",
    "        C=[] # encoded facts\n",
    "        for fact,fact_mask in zip(facts,fact_masks):\n",
    "            embeds = self.embed(fact)\n",
    "            if training:\n",
    "                embeds = self.dropout(embeds)\n",
    "            hidden = self.init_hidden(fact)\n",
    "            outputs,hidden = self.input_gru(embeds,hidden)\n",
    "            real_hidden=[]\n",
    "\n",
    "            for i,o in enumerate(outputs): # B,T,D\n",
    "                real_length = fact_mask[i].data.tolist().count(0) \n",
    "                real_hidden.append(o[real_length-1])\n",
    "\n",
    "            C.append(torch.cat(real_hidden).view(fact.size(0),-1).unsqueeze(0))\n",
    "        \n",
    "        encoded_facts = torch.cat(C) # B,T_C,D\n",
    "        \n",
    "        # Question Module\n",
    "        embeds = self.embed(questions)\n",
    "        if training:\n",
    "            embeds = self.dropout(embeds)\n",
    "        hidden = self.init_hidden(questions)\n",
    "        outputs, hidden = self.question_gru(embeds,hidden)\n",
    "        \n",
    "        if isinstance(question_masks,torch.autograd.variable.Variable):\n",
    "            real_question=[]\n",
    "            for i,o in enumerate(outputs): # B,T,D\n",
    "                real_length = question_masks[i].data.tolist().count(0) \n",
    "                real_question.append(o[real_length-1])\n",
    "            encoded_question = torch.cat(real_question).view(questions.size(0),-1) # B,D\n",
    "        else: # for inference mode\n",
    "            encoded_question = hidden.squeeze(0) # B,D\n",
    "            \n",
    "        # Episodic Memory Module\n",
    "        memory = encoded_question\n",
    "        T_C = encoded_facts.size(1)\n",
    "        B = encoded_facts.size(0)\n",
    "        for i in range(episodes):\n",
    "            hidden = self.init_hidden(encoded_facts.transpose(0,1)[0]).squeeze(0) # B,D\n",
    "            for t in range(T_C):\n",
    "                #TODO: fact masking\n",
    "                #TODO: gate function => softmax\n",
    "                z = torch.cat([\n",
    "                                    encoded_facts.transpose(0,1)[t]*encoded_question, # B,D , element-wise product\n",
    "                                    encoded_facts.transpose(0,1)[t]*memory, # B,D , element-wise product\n",
    "                                    torch.abs(encoded_facts.transpose(0,1)[t]-encoded_question), # B,D\n",
    "                                    torch.abs(encoded_facts.transpose(0,1)[t]-memory) # B,D\n",
    "                                ],1)\n",
    "                g_t = self.gate(z) # B,1 scalar\n",
    "                hidden = g_t*self.attention_grucell(encoded_facts.transpose(0,1)[t],hidden) + (1-g_t)*hidden\n",
    "                \n",
    "            e = hidden\n",
    "            memory = self.memory_grucell(e,memory)\n",
    "        \n",
    "        # Answer Module\n",
    "        answer_hidden = memory\n",
    "        start_decode = Variable(LongTensor([[word2index['<s>']]*memory.size(0)])).transpose(0,1)\n",
    "        y_t_1 = self.embed(start_decode).squeeze(1) # B,D\n",
    "        \n",
    "        decodes=[]\n",
    "        for t in range(num_decode):\n",
    "            answer_hidden = self.answer_grucell(torch.cat([y_t_1,encoded_question],1),answer_hidden)\n",
    "            decodes.append(F.log_softmax(self.answer_fc(answer_hidden)))\n",
    "        return torch.cat(decodes,1).view(B*num_decode,-1)\n"
   ]
  },
  {
   "cell_type": "markdown",
   "metadata": {},
   "source": [
    "### Train "
   ]
  },
  {
   "cell_type": "code",
   "execution_count": 28,
   "metadata": {
    "collapsed": true
   },
   "outputs": [],
   "source": [
    "HIDDEN_SIZE=80\n",
    "BATCH_SIZE=64\n",
    "LR=0.001\n",
    "EPOCH=50\n",
    "NUM_EPISODE=3\n",
    "EARLY_STOPPING=False"
   ]
  },
  {
   "cell_type": "code",
   "execution_count": 19,
   "metadata": {
    "collapsed": false
   },
   "outputs": [],
   "source": [
    "model = DMN(len(word2index),HIDDEN_SIZE,len(word2index))\n",
    "model.init_weight()\n",
    "if USE_CUDA:\n",
    "    model = model.cuda()\n",
    "\n",
    "loss_function = nn.CrossEntropyLoss(ignore_index=0)\n",
    "optimizer = optim.Adam(model.parameters(),lr=LR)"
   ]
  },
  {
   "cell_type": "code",
   "execution_count": 29,
   "metadata": {
    "collapsed": false
   },
   "outputs": [
    {
     "name": "stdout",
     "output_type": "stream",
     "text": [
      "[0/40] mean_loss : 0.14\n",
      "[0/40] mean_loss : 0.09\n",
      "[1/40] mean_loss : 0.05\n",
      "[1/40] mean_loss : 0.07\n",
      "[2/40] mean_loss : 0.01\n",
      "[2/40] mean_loss : 0.03\n",
      "[3/40] mean_loss : 0.01\n",
      "Early Stopping!\n"
     ]
    }
   ],
   "source": [
    "for epoch in range(EPOCH):\n",
    "    losses=[]\n",
    "    if EARLY_STOPPING: break\n",
    "        \n",
    "    for i,batch in enumerate(getBatch(BATCH_SIZE,train)):\n",
    "        facts, fact_masks, questions, question_masks, answers = pad_to_batch(batch,word2index)\n",
    "        \n",
    "        model.zero_grad()\n",
    "        pred = model(facts,fact_masks,questions,question_masks,answers.size(1),NUM_EPISODE,True)\n",
    "        loss = loss_function(pred,answers.view(-1))\n",
    "        losses.append(loss.data.cpu().tolist()[0] if USE_CUDA else loss.data.tolist()[0])\n",
    "        \n",
    "        loss.backward()\n",
    "        optimizer.step()\n",
    "        \n",
    "        if i % 100==0:\n",
    "            print(\"[%d/%d] mean_loss : %0.2f\" %(epoch,EPOCH,np.mean(losses)))\n",
    "            \n",
    "            if np.mean(losses)<0.01:\n",
    "                EARLY_STOPPING=True\n",
    "                print(\"Early Stopping!\")\n",
    "                break\n",
    "            losses=[]"
   ]
  },
  {
   "cell_type": "markdown",
   "metadata": {},
   "source": [
    "### Test "
   ]
  },
  {
   "cell_type": "code",
   "execution_count": 21,
   "metadata": {
    "collapsed": true
   },
   "outputs": [],
   "source": [
    "def pad_to_fact(fact,x_to_ix): # this is for inference\n",
    "    \n",
    "    max_x = max([s.size(1) for s in fact])\n",
    "    x_p=[]\n",
    "    for i in range(len(fact)):\n",
    "        if fact[i].size(1)<max_x:\n",
    "            x_p.append(torch.cat([fact[i],Variable(LongTensor([x_to_ix['<PAD>']]*(max_x-fact[i].size(1)))).view(1,-1)],1))\n",
    "        else:\n",
    "            x_p.append(fact[i])\n",
    "        \n",
    "    fact = torch.cat(x_p)\n",
    "    fact_mask = torch.cat([Variable(ByteTensor(tuple(map(lambda s: s ==0, t.data))),volatile=False) for t in fact]).view(fact.size(0),-1)\n",
    "    return fact,fact_mask"
   ]
  },
  {
   "cell_type": "markdown",
   "metadata": {},
   "source": [
    "### Prepare Test data "
   ]
  },
  {
   "cell_type": "code",
   "execution_count": 22,
   "metadata": {
    "collapsed": true
   },
   "outputs": [],
   "source": [
    "data = open('../dataset/corpus/bAbI/en-10k/qa5_three-arg-relations_test.txt').readlines()\n",
    "data = [d[:-1] for d in data]"
   ]
  },
  {
   "cell_type": "code",
   "execution_count": 23,
   "metadata": {
    "collapsed": true
   },
   "outputs": [],
   "source": [
    "test=[]\n",
    "fact=[]\n",
    "qa=[]"
   ]
  },
  {
   "cell_type": "code",
   "execution_count": 24,
   "metadata": {
    "collapsed": true
   },
   "outputs": [],
   "source": [
    "for d in data:\n",
    "    index = d.split(' ')[0]\n",
    "    if index=='1':\n",
    "        fact=[]\n",
    "        qa=[]\n",
    "        \n",
    "    if '?' in d:\n",
    "        temp = d.split('\\t')\n",
    "        q = temp[0].strip().replace('?','').split(' ')[1:]+['?']\n",
    "        a = temp[1].split()+['</s>']\n",
    "        #f = [int(t)-1 for t in temp[2].split()]\n",
    "        stemp = deepcopy(fact)\n",
    "\n",
    "        test.append([stemp,q,a])\n",
    "    else:\n",
    "        tokens = d.replace('.','').split(' ')[1:]+['</s>']\n",
    "        fact.append(tokens)"
   ]
  },
  {
   "cell_type": "code",
   "execution_count": 25,
   "metadata": {
    "collapsed": true
   },
   "outputs": [],
   "source": [
    "for t in test:\n",
    "    for i,fact in enumerate(t[0]):\n",
    "        t[0][i] = prepare_sequence(fact,word2index).view(1,-1)\n",
    "    \n",
    "    t[1] = prepare_sequence(t[1],word2index).view(1,-1)\n",
    "    t[2] = prepare_sequence(t[2],word2index).view(1,-1)"
   ]
  },
  {
   "cell_type": "markdown",
   "metadata": {},
   "source": [
    "### Accuracy "
   ]
  },
  {
   "cell_type": "code",
   "execution_count": 30,
   "metadata": {
    "collapsed": true
   },
   "outputs": [],
   "source": [
    "accuracy=0"
   ]
  },
  {
   "cell_type": "code",
   "execution_count": 31,
   "metadata": {
    "collapsed": false
   },
   "outputs": [
    {
     "name": "stdout",
     "output_type": "stream",
     "text": [
      "98.3\n"
     ]
    }
   ],
   "source": [
    "for t in test:\n",
    "    fact, fact_mask = pad_to_fact(t[0],word2index)\n",
    "    question = t[1]\n",
    "    question_mask = Variable(ByteTensor([0]*t[1].size(1)),volatile=False).unsqueeze(0)\n",
    "    answer = t[2].squeeze(0)\n",
    "    \n",
    "    model.zero_grad()\n",
    "    pred = model([fact],[fact_mask],question,question_mask,answer.size(0),NUM_EPISODE)\n",
    "    if pred.max(1)[1].data.tolist()==answer.data.tolist():\n",
    "        accuracy+=1\n",
    "\n",
    "print(accuracy/len(test)*100)"
   ]
  },
  {
   "cell_type": "markdown",
   "metadata": {},
   "source": [
    "### Sample test result "
   ]
  },
  {
   "cell_type": "code",
   "execution_count": 70,
   "metadata": {
    "collapsed": false
   },
   "outputs": [
    {
     "name": "stdout",
     "output_type": "stream",
     "text": [
      "Fred picked up the apple there put\n",
      "Bill went back to the office put\n",
      "Jeff grabbed the milk there put <PAD>\n",
      "Jeff gave the milk to Bill put\n",
      "Fred dropped the apple put <PAD> <PAD>\n",
      "Bill discarded the milk put <PAD> <PAD>\n",
      "Mary journeyed to the garden put <PAD>\n",
      "Bill went to the kitchen put <PAD>\n",
      "Bill travelled to the bedroom put <PAD>\n",
      "Mary travelled to the bathroom put <PAD>\n",
      "Bill journeyed to the garden put <PAD>\n",
      "Fred picked up the apple there put\n",
      "Fred went to the bedroom put <PAD>\n",
      "Jeff grabbed the milk there put <PAD>\n",
      "Fred picked up the football there put\n",
      "Fred put down the apple put <PAD>\n",
      "Jeff discarded the milk there put <PAD>\n",
      "Mary travelled to the office put <PAD>\n",
      "Bill went to the kitchen put <PAD>\n",
      "Bill went to the garden put <PAD>\n",
      "Jeff took the milk there put <PAD>\n",
      "Fred picked up the apple there put\n",
      "Jeff went to the hallway put <PAD>\n",
      "Bill travelled to the hallway put <PAD>\n",
      "Fred went to the office put <PAD>\n",
      "Fred handed the apple to Mary put\n",
      "Jeff went to the bathroom put <PAD>\n",
      "Mary gave the apple to Fred put\n",
      "\n",
      "Q :  Who did Mary give the apple to ?\n",
      "\n",
      "A :  Fred put\n",
      "P :  Fred put\n"
     ]
    }
   ],
   "source": [
    "t = random.choice(test)\n",
    "fact, fact_mask = pad_to_fact(t[0],word2index)\n",
    "question = t[1]\n",
    "question_mask = Variable(ByteTensor([0]*t[1].size(1)),volatile=False).unsqueeze(0)\n",
    "answer = t[2].squeeze(0)\n",
    "\n",
    "model.zero_grad()\n",
    "pred = model([fact],[fact_mask],question,question_mask,answer.size(0),NUM_EPISODE)\n",
    "\n",
    "print('\\n'.join([' '.join(list(map(lambda x : index2word[x],f))) for f in fact.data.tolist()]))\n",
    "print(\"\")\n",
    "print(\"Q : \",' '.join(list(map(lambda x:index2word[x],question.data.tolist()[0]))))\n",
    "print(\"\")\n",
    "print(\"A : \",' '.join(list(map(lambda x:index2word[x],answer.data.tolist()))))\n",
    "print(\"P : \",' '.join(list(map(lambda x:index2word[x],pred.max(1)[1].data.tolist()))))"
   ]
  },
  {
   "cell_type": "code",
   "execution_count": null,
   "metadata": {
    "collapsed": true
   },
   "outputs": [],
   "source": []
  }
 ],
 "metadata": {
  "kernelspec": {
   "display_name": "Python 3",
   "language": "python",
   "name": "python3"
  },
  "language_info": {
   "codemirror_mode": {
    "name": "ipython",
    "version": 3
   },
   "file_extension": ".py",
   "mimetype": "text/x-python",
   "name": "python",
   "nbconvert_exporter": "python",
   "pygments_lexer": "ipython3",
   "version": "3.5.2"
  }
 },
 "nbformat": 4,
 "nbformat_minor": 2
}
