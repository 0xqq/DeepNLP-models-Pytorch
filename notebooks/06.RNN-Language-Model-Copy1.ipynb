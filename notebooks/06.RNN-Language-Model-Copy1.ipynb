{
 "cells": [
  {
   "cell_type": "markdown",
   "metadata": {},
   "source": [
    "# 6. Recurrent Neural Networks and Language Models"
   ]
  },
  {
   "cell_type": "markdown",
   "metadata": {},
   "source": [
    "* http://web.stanford.edu/class/cs224n/lectures/cs224n-2017-lecture8.pdf\n",
    "* http://web.stanford.edu/class/cs224n/lectures/cs224n-2017-lecture9.pdf\n",
    "* http://colah.github.io/posts/2015-08-Understanding-LSTMs/\n",
    "* https://github.com/pytorch/examples/tree/master/word_language_model\n",
    "* https://github.com/yunjey/pytorch-tutorial/blob/master/tutorials/02-intermediate/language_model"
   ]
  },
  {
   "cell_type": "code",
   "execution_count": 1,
   "metadata": {
    "collapsed": true
   },
   "outputs": [],
   "source": [
    "import torch\n",
    "import torch.nn as nn\n",
    "from torch.autograd import Variable\n",
    "import torch.optim as optim\n",
    "import torch.nn.functional as F\n",
    "import nltk\n",
    "import random\n",
    "import numpy as np\n",
    "from collections import Counter, OrderedDict\n",
    "import nltk\n",
    "from copy import deepcopy\n",
    "flatten = lambda l: [item for sublist in l for item in sublist]"
   ]
  },
  {
   "cell_type": "code",
   "execution_count": 2,
   "metadata": {
    "collapsed": true
   },
   "outputs": [],
   "source": [
    "USE_CUDA = torch.cuda.is_available()\n",
    "\n",
    "FloatTensor = torch.cuda.FloatTensor if USE_CUDA else torch.FloatTensor\n",
    "LongTensor = torch.cuda.LongTensor if USE_CUDA else torch.LongTensor\n",
    "ByteTensor = torch.cuda.ByteTensor if USE_CUDA else torch.ByteTensor"
   ]
  },
  {
   "cell_type": "code",
   "execution_count": 15,
   "metadata": {
    "collapsed": true
   },
   "outputs": [],
   "source": [
    "def getBatch(data,seq_length):\n",
    "    for i in range(0, data.size(1) - seq_length, seq_length):\n",
    "        inputs = Variable(data[:, i:i+seq_length])\n",
    "        targets = Variable(data[:, (i+1):(i+1)+seq_length].contiguous())\n",
    "                \n",
    "        yield (inputs,targets)"
   ]
  },
  {
   "cell_type": "code",
   "execution_count": 3,
   "metadata": {
    "collapsed": true
   },
   "outputs": [],
   "source": [
    "def prepare_sequence(seq, to_index):\n",
    "    idxs = list(map(lambda w: to_index[w] if w in to_index.keys() else to_index[\"<unk>\"], seq))\n",
    "    return LongTensor(idxs)"
   ]
  },
  {
   "cell_type": "markdown",
   "metadata": {},
   "source": [
    "## Data load and Preprocessing"
   ]
  },
  {
   "cell_type": "markdown",
   "metadata": {},
   "source": [
    "### Penn TreeBank"
   ]
  },
  {
   "cell_type": "code",
   "execution_count": 5,
   "metadata": {
    "collapsed": true
   },
   "outputs": [],
   "source": [
    "def prepare_ptb_dataset(filename,word2index=None):\n",
    "    corpus = open(filename,'r',encoding='utf-8').readlines()\n",
    "    corpus = flatten([co.strip().split() + ['</s>'] for co in corpus])\n",
    "    \n",
    "    if word2index==None:\n",
    "        vocab = list(set(corpus))\n",
    "        word2index={'<unk>':0}\n",
    "        for vo in vocab:\n",
    "            if vo not in word2index.keys():\n",
    "                word2index[vo]=len(word2index)\n",
    "    \n",
    "    return prepare_sequence(corpus,word2index), word2index"
   ]
  },
  {
   "cell_type": "code",
   "execution_count": 6,
   "metadata": {
    "collapsed": true
   },
   "outputs": [],
   "source": [
    "# borrowed code from https://github.com/pytorch/examples/tree/master/word_language_model\n",
    "\n",
    "def batchify(data, bsz):\n",
    "    # Work out how cleanly we can divide the dataset into bsz parts.\n",
    "    nbatch = data.size(0) // bsz\n",
    "    # Trim off any extra elements that wouldn't cleanly fit (remainders).\n",
    "    data = data.narrow(0, 0, nbatch * bsz)\n",
    "    # Evenly divide the data across the bsz batches.\n",
    "    data = data.view(bsz, -1).contiguous()\n",
    "    if USE_CUDA:\n",
    "        data = data.cuda()\n",
    "    return data\n",
    "\n",
    "def get_batch(source, i, evaluation=False):\n",
    "    seq_len = min(SEQ_LENGTH, len(source) - 1 - i)\n",
    "    data = Variable(source[i:i+seq_len], volatile=evaluation)\n",
    "    target = Variable(source[i+1:i+1+seq_len].view(-1))\n",
    "    return data, target\n",
    "\n",
    "\n",
    "def evaluate(data_source):\n",
    "    # Turn on evaluation mode which disables dropout.\n",
    "    model.eval()\n",
    "    total_loss = 0\n",
    "    ntokens = len(corpus.dictionary)\n",
    "    hidden = model.init_hidden(eval_batch_size)\n",
    "    for i in range(0, data_source.size(0) - 1, SEQ_LENGTH):\n",
    "        data, targets = get_batch(data_source, i, evaluation=True)\n",
    "        output, hidden = model(data, hidden)\n",
    "        output_flat = output.view(-1, ntokens)\n",
    "        total_loss += len(data) * criterion(output_flat, targets).data\n",
    "        hidden = repackage_hidden(hidden)\n",
    "    return total_loss[0] / len(data_source)"
   ]
  },
  {
   "cell_type": "code",
   "execution_count": 7,
   "metadata": {
    "collapsed": false
   },
   "outputs": [],
   "source": [
    "train_data, word2index= prepare_ptb_dataset('../dataset/ptb/ptb.train.txt',)\n",
    "dev_data , _ = prepare_ptb_dataset('../dataset/ptb/ptb.valid.txt',word2index)\n",
    "test_data, _ = prepare_ptb_dataset('../dataset/ptb/ptb.test.txt',word2index)"
   ]
  },
  {
   "cell_type": "code",
   "execution_count": 8,
   "metadata": {
    "collapsed": false
   },
   "outputs": [
    {
     "data": {
      "text/plain": [
       "10000"
      ]
     },
     "execution_count": 8,
     "metadata": {},
     "output_type": "execute_result"
    }
   ],
   "source": [
    "len(word2index)"
   ]
  },
  {
   "cell_type": "code",
   "execution_count": 9,
   "metadata": {
    "collapsed": true
   },
   "outputs": [],
   "source": [
    "index2word = {v:k for k,v in word2index.items()}"
   ]
  },
  {
   "cell_type": "markdown",
   "metadata": {},
   "source": [
    "## Modeling "
   ]
  },
  {
   "cell_type": "markdown",
   "metadata": {},
   "source": [
    "<img src=\"../images/06.rnnlm-architecture.png\">\n",
    "<center>borrowed image from http://web.stanford.edu/class/cs224n/lectures/cs224n-2017-lecture8.pdf</center>"
   ]
  },
  {
   "cell_type": "code",
   "execution_count": 10,
   "metadata": {
    "collapsed": false
   },
   "outputs": [],
   "source": [
    "class LanguageModel(nn.Module): \n",
    "    def __init__(self,vocab_size,embedding_size,hidden_size,n_layers=1,dropout_p=0.5):\n",
    "\n",
    "        super(LanguageModel, self).__init__()\n",
    "        self.n_layers = n_layers\n",
    "        self.hidden_size = hidden_size\n",
    "        self.embed = nn.Embedding(vocab_size,embedding_size)\n",
    "        self.rnn = nn.LSTM(embedding_size,hidden_size,n_layers,batch_first=True)\n",
    "        self.linear = nn.Linear(hidden_size,vocab_size)\n",
    "        self.dropout = nn.Dropout(dropout_p)\n",
    "        \n",
    "    def init_weight(self):\n",
    "        self.embed.weight = nn.init.xavier_uniform(self.embed.weight)\n",
    "        self.linear.weight = nn.init.xavier_uniform(self.linear.weight)\n",
    "        self.linear.bias.data.fill_(0)\n",
    "        \n",
    "    def init_hidden(self,batch_size):\n",
    "        hidden = Variable(torch.zeros(self.n_layers,batch_size,self.hidden_size))\n",
    "        context = Variable(torch.zeros(self.n_layers,batch_size,self.hidden_size))\n",
    "        return (hidden.cuda(), context.cuda()) if USE_CUDA else (hidden,context)\n",
    "    \n",
    "    def detach_hidden(self,hiddens):\n",
    "        return tuple([hidden.detach() for hidden in hiddens])\n",
    "    \n",
    "    def forward(self, inputs,hidden,is_training=False): \n",
    "\n",
    "        embeds = self.embed(inputs)\n",
    "        if is_training:\n",
    "            embeds = self.dropout(embeds)\n",
    "        out,hidden = self.rnn(embeds,hidden)\n",
    "        return self.linear(out.contiguous().view(out.size(0)*out.size(1),-1)), hidden"
   ]
  },
  {
   "cell_type": "markdown",
   "metadata": {},
   "source": [
    "## Train "
   ]
  },
  {
   "cell_type": "markdown",
   "metadata": {},
   "source": [
    "It takes for a while..."
   ]
  },
  {
   "cell_type": "code",
   "execution_count": 23,
   "metadata": {
    "collapsed": true
   },
   "outputs": [],
   "source": [
    "EMBED_SIZE=128\n",
    "HIDDEN_SIZE=1024\n",
    "NUM_LAYER=1\n",
    "LR = 0.01\n",
    "SEQ_LENGTH = 30 # for bptt\n",
    "BATCH_SIZE = 20\n",
    "EPOCH = 40\n",
    "RESCHEDULED=False"
   ]
  },
  {
   "cell_type": "code",
   "execution_count": 24,
   "metadata": {
    "collapsed": true
   },
   "outputs": [],
   "source": [
    "train_data = batchify(train_data,BATCH_SIZE)\n",
    "dev_data = batchify(dev_data,BATCH_SIZE//2)\n",
    "test_data = batchify(test_data,BATCH_SIZE//2)"
   ]
  },
  {
   "cell_type": "code",
   "execution_count": 25,
   "metadata": {
    "collapsed": false
   },
   "outputs": [],
   "source": [
    "model = LanguageModel(len(word2index),EMBED_SIZE,HIDDEN_SIZE,NUM_LAYER)\n",
    "model.init_weight() \n",
    "if USE_CUDA:\n",
    "    model = model.cuda()\n",
    "loss_function = nn.CrossEntropyLoss()\n",
    "optimizer = optim.Adam(model.parameters(),lr=LR)"
   ]
  },
  {
   "cell_type": "code",
   "execution_count": 26,
   "metadata": {
    "collapsed": false
   },
   "outputs": [
    {
     "name": "stdout",
     "output_type": "stream",
     "text": [
      "[00/40] mean_loss : 6.05, Perplexity : 423.12\n",
      "[00/40] mean_loss : 5.41, Perplexity : 224.68\n",
      "[00/40] mean_loss : 5.22, Perplexity : 184.55\n",
      "[01/40] mean_loss : 5.02, Perplexity : 151.38\n",
      "[01/40] mean_loss : 4.93, Perplexity : 137.81\n",
      "[01/40] mean_loss : 4.85, Perplexity : 127.53\n",
      "[02/40] mean_loss : 4.77, Perplexity : 118.17\n",
      "[02/40] mean_loss : 4.71, Perplexity : 110.68\n",
      "[02/40] mean_loss : 4.65, Perplexity : 104.78\n",
      "[03/40] mean_loss : 4.61, Perplexity : 100.84\n",
      "[03/40] mean_loss : 4.57, Perplexity : 96.16\n",
      "[03/40] mean_loss : 4.52, Perplexity : 91.82\n",
      "[04/40] mean_loss : 4.49, Perplexity : 89.46\n",
      "[04/40] mean_loss : 4.46, Perplexity : 86.30\n",
      "[04/40] mean_loss : 4.42, Perplexity : 82.95\n",
      "[05/40] mean_loss : 4.41, Perplexity : 81.92\n",
      "[05/40] mean_loss : 4.37, Perplexity : 79.24\n",
      "[05/40] mean_loss : 4.34, Perplexity : 76.94\n",
      "[06/40] mean_loss : 4.33, Perplexity : 76.13\n",
      "[06/40] mean_loss : 4.31, Perplexity : 74.65\n",
      "[06/40] mean_loss : 4.28, Perplexity : 72.34\n",
      "[07/40] mean_loss : 4.28, Perplexity : 72.07\n",
      "[07/40] mean_loss : 4.26, Perplexity : 70.85\n",
      "[07/40] mean_loss : 4.23, Perplexity : 68.71\n",
      "[08/40] mean_loss : 4.24, Perplexity : 69.10\n",
      "[08/40] mean_loss : 4.22, Perplexity : 68.11\n",
      "[08/40] mean_loss : 4.19, Perplexity : 66.01\n",
      "[09/40] mean_loss : 4.20, Perplexity : 66.81\n",
      "[09/40] mean_loss : 4.19, Perplexity : 66.18\n",
      "[09/40] mean_loss : 4.16, Perplexity : 63.94\n",
      "[10/40] mean_loss : 4.17, Perplexity : 64.85\n",
      "[10/40] mean_loss : 4.16, Perplexity : 64.22\n",
      "[10/40] mean_loss : 4.13, Perplexity : 62.14\n",
      "[11/40] mean_loss : 4.14, Perplexity : 62.96\n",
      "[11/40] mean_loss : 4.14, Perplexity : 62.61\n",
      "[11/40] mean_loss : 4.10, Perplexity : 60.49\n",
      "[12/40] mean_loss : 4.13, Perplexity : 62.06\n",
      "[12/40] mean_loss : 4.12, Perplexity : 61.56\n",
      "[12/40] mean_loss : 4.09, Perplexity : 59.78\n",
      "[13/40] mean_loss : 4.11, Perplexity : 60.96\n",
      "[13/40] mean_loss : 4.10, Perplexity : 60.51\n",
      "[13/40] mean_loss : 4.08, Perplexity : 59.13\n",
      "[14/40] mean_loss : 4.10, Perplexity : 60.11\n",
      "[14/40] mean_loss : 4.10, Perplexity : 60.09\n",
      "[14/40] mean_loss : 4.07, Perplexity : 58.36\n",
      "[15/40] mean_loss : 4.09, Perplexity : 60.01\n",
      "[15/40] mean_loss : 4.08, Perplexity : 59.09\n",
      "[15/40] mean_loss : 4.06, Perplexity : 57.75\n",
      "[16/40] mean_loss : 4.08, Perplexity : 59.05\n",
      "[16/40] mean_loss : 4.07, Perplexity : 58.61\n",
      "[16/40] mean_loss : 4.05, Perplexity : 57.14\n",
      "[17/40] mean_loss : 4.08, Perplexity : 58.99\n",
      "[17/40] mean_loss : 4.06, Perplexity : 57.83\n",
      "[17/40] mean_loss : 4.04, Perplexity : 56.91\n",
      "[18/40] mean_loss : 4.07, Perplexity : 58.54\n",
      "[18/40] mean_loss : 4.06, Perplexity : 58.12\n",
      "[18/40] mean_loss : 4.04, Perplexity : 56.59\n",
      "[19/40] mean_loss : 4.07, Perplexity : 58.31\n",
      "[19/40] mean_loss : 4.06, Perplexity : 58.03\n",
      "[19/40] mean_loss : 4.04, Perplexity : 56.66\n",
      "[20/40] mean_loss : 4.07, Perplexity : 58.30\n",
      "[20/40] mean_loss : 4.05, Perplexity : 57.66\n",
      "[20/40] mean_loss : 4.03, Perplexity : 56.09\n",
      "[21/40] mean_loss : 4.09, Perplexity : 60.03\n",
      "[21/40] mean_loss : 3.98, Perplexity : 53.47\n",
      "[21/40] mean_loss : 3.82, Perplexity : 45.66\n",
      "[22/40] mean_loss : 3.92, Perplexity : 50.51\n",
      "[22/40] mean_loss : 3.88, Perplexity : 48.62\n",
      "[22/40] mean_loss : 3.77, Perplexity : 43.53\n",
      "[23/40] mean_loss : 3.87, Perplexity : 47.99\n",
      "[23/40] mean_loss : 3.83, Perplexity : 46.19\n",
      "[23/40] mean_loss : 3.75, Perplexity : 42.46\n",
      "[24/40] mean_loss : 3.84, Perplexity : 46.33\n",
      "[24/40] mean_loss : 3.80, Perplexity : 44.58\n",
      "[24/40] mean_loss : 3.72, Perplexity : 41.42\n",
      "[25/40] mean_loss : 3.81, Perplexity : 45.19\n",
      "[25/40] mean_loss : 3.77, Perplexity : 43.48\n",
      "[25/40] mean_loss : 3.70, Perplexity : 40.60\n",
      "[26/40] mean_loss : 3.79, Perplexity : 44.15\n",
      "[26/40] mean_loss : 3.76, Perplexity : 42.79\n",
      "[26/40] mean_loss : 3.69, Perplexity : 40.04\n",
      "[27/40] mean_loss : 3.77, Perplexity : 43.25\n",
      "[27/40] mean_loss : 3.73, Perplexity : 41.86\n",
      "[27/40] mean_loss : 3.68, Perplexity : 39.48\n",
      "[28/40] mean_loss : 3.75, Perplexity : 42.39\n",
      "[28/40] mean_loss : 3.71, Perplexity : 41.06\n",
      "[28/40] mean_loss : 3.66, Perplexity : 38.94\n",
      "[29/40] mean_loss : 3.73, Perplexity : 41.67\n",
      "[29/40] mean_loss : 3.70, Perplexity : 40.55\n",
      "[29/40] mean_loss : 3.65, Perplexity : 38.48\n",
      "[30/40] mean_loss : 3.72, Perplexity : 41.35\n",
      "[30/40] mean_loss : 3.69, Perplexity : 40.02\n",
      "[30/40] mean_loss : 3.64, Perplexity : 38.04\n",
      "[31/40] mean_loss : 3.70, Perplexity : 40.59\n",
      "[31/40] mean_loss : 3.67, Perplexity : 39.43\n",
      "[31/40] mean_loss : 3.63, Perplexity : 37.62\n",
      "[32/40] mean_loss : 3.69, Perplexity : 40.03\n",
      "[32/40] mean_loss : 3.66, Perplexity : 39.03\n",
      "[32/40] mean_loss : 3.62, Perplexity : 37.34\n",
      "[33/40] mean_loss : 3.68, Perplexity : 39.62\n",
      "[33/40] mean_loss : 3.65, Perplexity : 38.49\n",
      "[33/40] mean_loss : 3.61, Perplexity : 36.83\n",
      "[34/40] mean_loss : 3.67, Perplexity : 39.22\n",
      "[34/40] mean_loss : 3.65, Perplexity : 38.31\n",
      "[34/40] mean_loss : 3.60, Perplexity : 36.59\n",
      "[35/40] mean_loss : 3.66, Perplexity : 38.70\n",
      "[35/40] mean_loss : 3.63, Perplexity : 37.88\n",
      "[35/40] mean_loss : 3.59, Perplexity : 36.35\n",
      "[36/40] mean_loss : 3.65, Perplexity : 38.50\n",
      "[36/40] mean_loss : 3.63, Perplexity : 37.56\n",
      "[36/40] mean_loss : 3.58, Perplexity : 36.03\n",
      "[37/40] mean_loss : 3.64, Perplexity : 38.18\n",
      "[37/40] mean_loss : 3.62, Perplexity : 37.16\n",
      "[37/40] mean_loss : 3.57, Perplexity : 35.69\n",
      "[38/40] mean_loss : 3.63, Perplexity : 37.89\n",
      "[38/40] mean_loss : 3.61, Perplexity : 36.91\n",
      "[38/40] mean_loss : 3.57, Perplexity : 35.53\n",
      "[39/40] mean_loss : 3.62, Perplexity : 37.36\n",
      "[39/40] mean_loss : 3.60, Perplexity : 36.61\n",
      "[39/40] mean_loss : 3.57, Perplexity : 35.35\n"
     ]
    }
   ],
   "source": [
    "for epoch in range(EPOCH):\n",
    "    losses=[]\n",
    "    hidden = model.init_hidden(BATCH_SIZE)\n",
    "    for i,batch in enumerate(getBatch(train_data,SEQ_LENGTH)):\n",
    "        inputs, targets = batch\n",
    "        hidden = model.detach_hidden(hidden)\n",
    "        model.zero_grad()\n",
    "        preds,hidden = model(inputs,hidden,True)\n",
    "\n",
    "        loss = loss_function(preds,targets.view(-1))\n",
    "        losses.append(loss.data.tolist()[0])\n",
    "        loss.backward()\n",
    "        torch.nn.utils.clip_grad_norm(model.parameters(),0.5) # gradient clipping\n",
    "        optimizer.step()\n",
    "\n",
    "        if i>0 and i % 500==0:\n",
    "            print(\"[%02d/%d] mean_loss : %0.2f, Perplexity : %0.2f\" % (epoch,EPOCH, \\\n",
    "                                                                                                  np.mean(losses),np.exp(np.mean(losses))))\n",
    "            losses=[]\n",
    "        \n",
    "    if RESCHEDULED==False and epoch==EPOCH//2:\n",
    "        LR=LR*0.1\n",
    "        optimizer = optim.Adam(model.parameters(),lr=LR)\n",
    "        RESCHEDULED=True"
   ]
  },
  {
   "cell_type": "markdown",
   "metadata": {},
   "source": [
    "### Test "
   ]
  },
  {
   "cell_type": "code",
   "execution_count": 106,
   "metadata": {
    "collapsed": false
   },
   "outputs": [
    {
     "data": {
      "text/plain": [
       "8240"
      ]
     },
     "execution_count": 106,
     "metadata": {},
     "output_type": "execute_result"
    }
   ],
   "source": [
    "len(test_data)"
   ]
  },
  {
   "cell_type": "code",
   "execution_count": 107,
   "metadata": {
    "collapsed": false
   },
   "outputs": [
    {
     "data": {
      "text/plain": [
       "10.329978572512136"
      ]
     },
     "execution_count": 107,
     "metadata": {},
     "output_type": "execute_result"
    }
   ],
   "source": [
    "total_loss"
   ]
  },
  {
   "cell_type": "code",
   "execution_count": 158,
   "metadata": {
    "collapsed": false
   },
   "outputs": [],
   "source": [
    "total_loss = 0\n",
    "hidden = model.init_hidden(BATCH_SIZE//2)\n",
    "for i in range(0, test_data.size(0) - 1, SEQ_LENGTH):\n",
    "    inputs, targets = get_batch(test_data, i, evaluation=True)\n",
    "    output, hidden = model(inputs, hidden)\n",
    "    total_loss += len(inputs) * loss_function(output, targets).data\n",
    "    hidden = model.detach_hidden(hidden)\n",
    "    \n",
    "total_loss = total_loss[0] / len(test_data)"
   ]
  },
  {
   "cell_type": "code",
   "execution_count": 159,
   "metadata": {
    "collapsed": false
   },
   "outputs": [
    {
     "name": "stdout",
     "output_type": "stream",
     "text": [
      "3433.39809981\n"
     ]
    }
   ],
   "source": [
    "print(np.exp(total_loss))"
   ]
  },
  {
   "cell_type": "code",
   "execution_count": 28,
   "metadata": {
    "collapsed": false
   },
   "outputs": [
    {
     "data": {
      "text/plain": [
       "6.4240787760184626"
      ]
     },
     "execution_count": 28,
     "metadata": {},
     "output_type": "execute_result"
    }
   ],
   "source": [
    "np.mean(losses)"
   ]
  },
  {
   "cell_type": "code",
   "execution_count": 29,
   "metadata": {
    "collapsed": false
   },
   "outputs": [
    {
     "data": {
      "text/plain": [
       "torch.Size([10, 30])"
      ]
     },
     "execution_count": 29,
     "metadata": {},
     "output_type": "execute_result"
    }
   ],
   "source": [
    "inputs.size()"
   ]
  },
  {
   "cell_type": "code",
   "execution_count": 31,
   "metadata": {
    "collapsed": false
   },
   "outputs": [
    {
     "name": "stdout",
     "output_type": "stream",
     "text": [
      "Test Perpelexity : 605.56\n"
     ]
    }
   ],
   "source": [
    "total_loss = 0\n",
    "hidden = model.init_hidden(BATCH_SIZE//2)\n",
    "losses=[]\n",
    "for batch in getBatch(test_data,SEQ_LENGTH):\n",
    "    inputs,targets = batch\n",
    "        \n",
    "    hidden = model.detach_hidden(hidden)\n",
    "    model.zero_grad()\n",
    "    preds,hidden = model(inputs,hidden)\n",
    "    total_loss += inputs.size(1) * loss_function(preds, targets.view(-1)).data\n",
    "#     losses.append(loss_function(preds,targets.view(-1)).data.tolist()[0])\n",
    "\n",
    "total_loss = total_loss[0]/test_data.size(1)\n",
    "print(\"Test Perpelexity : %5.2f\" % (np.exp(total_loss)))"
   ]
  },
  {
   "cell_type": "markdown",
   "metadata": {
    "collapsed": true
   },
   "source": [
    "## Further topics"
   ]
  },
  {
   "cell_type": "markdown",
   "metadata": {},
   "source": [
    "* <a href=\"https://arxiv.org/pdf/1609.07843.pdf\">Pointer Sentinel Mixture Models</a>\n",
    "* <a href=\"https://arxiv.org/pdf/1708.02182\">Regularizing and Optimizing LSTM Language Models</a>"
   ]
  },
  {
   "cell_type": "code",
   "execution_count": null,
   "metadata": {
    "collapsed": true
   },
   "outputs": [],
   "source": []
  }
 ],
 "metadata": {
  "kernelspec": {
   "display_name": "Python 3",
   "language": "python",
   "name": "python3"
  },
  "language_info": {
   "codemirror_mode": {
    "name": "ipython",
    "version": 3
   },
   "file_extension": ".py",
   "mimetype": "text/x-python",
   "name": "python",
   "nbconvert_exporter": "python",
   "pygments_lexer": "ipython3",
   "version": "3.5.2"
  }
 },
 "nbformat": 4,
 "nbformat_minor": 2
}
