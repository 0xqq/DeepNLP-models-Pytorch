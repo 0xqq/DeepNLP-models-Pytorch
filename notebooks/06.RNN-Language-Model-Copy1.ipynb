{
 "cells": [
  {
   "cell_type": "markdown",
   "metadata": {},
   "source": [
    "# 6. Recurrent Neural Networks and Language Models"
   ]
  },
  {
   "cell_type": "markdown",
   "metadata": {},
   "source": [
    "* http://web.stanford.edu/class/cs224n/lectures/cs224n-2017-lecture8.pdf\n",
    "* https://arxiv.org/pdf/1504.00941.pdf\n",
    "* https://arxiv.org/pdf/1609.07843.pdf\n",
    "* https://github.com/pytorch/examples/tree/master/word_language_model\n",
    "* https://github.com/yunjey/pytorch-tutorial/blob/master/tutorials/02-intermediate/language_model"
   ]
  },
  {
   "cell_type": "code",
   "execution_count": 1,
   "metadata": {
    "collapsed": true
   },
   "outputs": [],
   "source": [
    "import torch\n",
    "import torch.nn as nn\n",
    "from torch.autograd import Variable\n",
    "import torch.optim as optim\n",
    "import torch.nn.functional as F\n",
    "import nltk\n",
    "import random\n",
    "import numpy as np\n",
    "from collections import Counter, OrderedDict\n",
    "import nltk\n",
    "from copy import deepcopy\n",
    "flatten = lambda l: [item for sublist in l for item in sublist]"
   ]
  },
  {
   "cell_type": "code",
   "execution_count": 2,
   "metadata": {
    "collapsed": true
   },
   "outputs": [],
   "source": [
    "USE_CUDA = torch.cuda.is_available()\n",
    "\n",
    "FloatTensor = torch.cuda.FloatTensor if USE_CUDA else torch.FloatTensor\n",
    "LongTensor = torch.cuda.LongTensor if USE_CUDA else torch.LongTensor\n",
    "ByteTensor = torch.cuda.ByteTensor if USE_CUDA else torch.ByteTensor"
   ]
  },
  {
   "cell_type": "code",
   "execution_count": 3,
   "metadata": {
    "collapsed": true
   },
   "outputs": [],
   "source": [
    "def prepare_sequence(seq, to_index):\n",
    "    idxs = list(map(lambda w: to_index[w] if w in to_index.keys() else to_index[\"<unk>\"], seq))\n",
    "    return LongTensor(idxs)"
   ]
  },
  {
   "cell_type": "markdown",
   "metadata": {},
   "source": [
    "### Data load and Preprocessing"
   ]
  },
  {
   "cell_type": "code",
   "execution_count": 4,
   "metadata": {
    "collapsed": true
   },
   "outputs": [],
   "source": [
    "def prepare_ptb_dataset(filename,word2index=None):\n",
    "    corpus = open(filename,'r',encoding='utf-8').readlines()\n",
    "    corpus = flatten([co.strip().split() + ['</s>'] for co in corpus])\n",
    "    \n",
    "    if word2index==None:\n",
    "        vocab = list(set(corpus))\n",
    "        word2index={'<unk>':0}\n",
    "        for vo in vocab:\n",
    "            if vo not in word2index.keys():\n",
    "                word2index[vo]=len(word2index)\n",
    "    \n",
    "    return prepare_sequence(corpus,word2index), word2index"
   ]
  },
  {
   "cell_type": "code",
   "execution_count": 5,
   "metadata": {
    "collapsed": true
   },
   "outputs": [],
   "source": [
    "# borrowed code from https://github.com/pytorch/examples/tree/master/word_language_model\n",
    "\n",
    "def batchify(data, bsz):\n",
    "    # Work out how cleanly we can divide the dataset into bsz parts.\n",
    "    nbatch = data.size(0) // bsz\n",
    "    # Trim off any extra elements that wouldn't cleanly fit (remainders).\n",
    "    data = data.narrow(0, 0, nbatch * bsz)\n",
    "    # Evenly divide the data across the bsz batches.\n",
    "    data = data.view(bsz, -1).contiguous()\n",
    "    if USE_CUDA:\n",
    "        data = data.cuda()\n",
    "    return data\n",
    "\n",
    "def get_batch(source, i, evaluation=False):\n",
    "    seq_len = min(SEQ_LENGTH, len(source) - 1 - i)\n",
    "    data = Variable(source[i:i+seq_len], volatile=evaluation)\n",
    "    target = Variable(source[i+1:i+1+seq_len].view(-1))\n",
    "    return data, target\n",
    "\n",
    "\n",
    "def evaluate(data_source):\n",
    "    # Turn on evaluation mode which disables dropout.\n",
    "    model.eval()\n",
    "    total_loss = 0\n",
    "    ntokens = len(corpus.dictionary)\n",
    "    hidden = model.init_hidden(eval_batch_size)\n",
    "    for i in range(0, data_source.size(0) - 1, args.bptt):\n",
    "        data, targets = get_batch(data_source, i, evaluation=True)\n",
    "        output, hidden = model(data, hidden)\n",
    "        output_flat = output.view(-1, ntokens)\n",
    "        total_loss += len(data) * criterion(output_flat, targets).data\n",
    "        hidden = repackage_hidden(hidden)\n",
    "    return total_loss[0] / len(data_source)"
   ]
  },
  {
   "cell_type": "code",
   "execution_count": 6,
   "metadata": {
    "collapsed": false
   },
   "outputs": [],
   "source": [
    "train_data, word2index= prepare_ptb_dataset('../dataset/ptb/ptb.train.txt',)\n",
    "dev_data , _ = prepare_ptb_dataset('../dataset/ptb/ptb.valid.txt',word2index)\n",
    "test_data, _ = prepare_ptb_dataset('../dataset/ptb/ptb.test.txt',word2index)"
   ]
  },
  {
   "cell_type": "code",
   "execution_count": 7,
   "metadata": {
    "collapsed": false
   },
   "outputs": [
    {
     "data": {
      "text/plain": [
       "10000"
      ]
     },
     "execution_count": 7,
     "metadata": {},
     "output_type": "execute_result"
    }
   ],
   "source": [
    "len(word2index)"
   ]
  },
  {
   "cell_type": "code",
   "execution_count": 8,
   "metadata": {
    "collapsed": true
   },
   "outputs": [],
   "source": [
    "index2word = {v:k for k,v in word2index.items()}"
   ]
  },
  {
   "cell_type": "markdown",
   "metadata": {},
   "source": [
    "## Modeling "
   ]
  },
  {
   "cell_type": "code",
   "execution_count": 9,
   "metadata": {
    "collapsed": false
   },
   "outputs": [],
   "source": [
    "class LanguageModel(nn.Module): \n",
    "    def __init__(self,vocab_size,embedding_size,hidden_size,n_layers=1,dropout_p=0.7):\n",
    "\n",
    "        super(LanguageModel, self).__init__()\n",
    "        self.n_layers = n_layers\n",
    "        self.hidden_size = hidden_size\n",
    "        self.embed = nn.Embedding(vocab_size,embedding_size)\n",
    "        self.rnn = nn.RNN(embedding_size,hidden_size,n_layers,nonlinearity='relu',batch_first=True)\n",
    "        self.linear = nn.Linear(hidden_size,vocab_size)\n",
    "        self.dropout = nn.Dropout(dropout_p)\n",
    "        self.init_rnn() # IRNN\n",
    "        self.init_embed()\n",
    "        \n",
    "    def init_embed(self):\n",
    "        self.embed.weight = nn.init.xavier_uniform(self.embed.weight)\n",
    "    \n",
    "    def init_rnn(self):\n",
    "        self.rnn.weight_hh_l0 = nn.init.eye(self.rnn.weight_hh_l0)\n",
    "        self.rnn.weight_ih_l0 = nn.init.eye(self.rnn.weight_ih_l0)\n",
    "        self.rnn.bias_hh_l0.data.fill_(0)\n",
    "        self.rnn.bias_ih_l0.data.fill_(0)\n",
    "        \n",
    "    def init_hidden(self,batch_size):\n",
    "        hidden = Variable(torch.zeros(self.n_layers,batch_size,self.hidden_size))\n",
    "        return hidden.cuda() if USE_CUDA else hidden\n",
    "    \n",
    "    def detach_hidden(self,hidden):\n",
    "        return hidden.detach()\n",
    "    \n",
    "    def forward(self, inputs,hidden,is_training=False): \n",
    "#         hidden = self.init_hidden(inputs)\n",
    "        embeds = self.embed(inputs) # BxWxD\n",
    "        if is_training:\n",
    "            embeds = self.dropout(embeds)\n",
    "        out,hidden = self.rnn(embeds,hidden)\n",
    "        return self.linear(out.contiguous().view(out.size(0)*out.size(1),-1)), hidden"
   ]
  },
  {
   "cell_type": "markdown",
   "metadata": {},
   "source": [
    "## Train "
   ]
  },
  {
   "cell_type": "markdown",
   "metadata": {},
   "source": [
    "It takes for a while. And It sometimes explodes its gradient because of 'relu'. I reference <a href=\"https://arxiv.org/pdf/1504.00941.pdf\">this paper</a> about IRNN. I don't know why it happens."
   ]
  },
  {
   "cell_type": "code",
   "execution_count": 14,
   "metadata": {
    "collapsed": true
   },
   "outputs": [],
   "source": [
    "EMBED_SIZE=100\n",
    "HIDDEN_SIZE=512\n",
    "NUM_LAYER=4\n",
    "LR = 0.001\n",
    "SEQ_LENGTH = 30 # for bptt\n",
    "BATCH_SIZE = 20\n",
    "EPOCH = 100"
   ]
  },
  {
   "cell_type": "code",
   "execution_count": 11,
   "metadata": {
    "collapsed": true
   },
   "outputs": [],
   "source": [
    "train_data = batchify(train_data,BATCH_SIZE)\n",
    "dev_data = batchify(dev_data,BATCH_SIZE//2)\n",
    "test_data = batchify(test_data,BATCH_SIZE//2)"
   ]
  },
  {
   "cell_type": "code",
   "execution_count": 15,
   "metadata": {
    "collapsed": false
   },
   "outputs": [],
   "source": [
    "model = LanguageModel(len(word2index),EMBED_SIZE,HIDDEN_SIZE,NUM_LAYER)\n",
    "if USE_CUDA:\n",
    "    model = model.cuda()\n",
    "loss_function = nn.CrossEntropyLoss()\n",
    "optimizer = optim.Adam(model.parameters(),lr=LR)"
   ]
  },
  {
   "cell_type": "code",
   "execution_count": 16,
   "metadata": {
    "collapsed": false
   },
   "outputs": [
    {
     "name": "stdout",
     "output_type": "stream",
     "text": [
      "[1/100] mean_loss : 5.87, Perplexity : 353.35\n",
      "[2/100] mean_loss : 5.54, Perplexity : 253.72\n",
      "[3/100] mean_loss : 5.33, Perplexity : 206.62\n",
      "[4/100] mean_loss : 5.17, Perplexity : 175.84\n",
      "[5/100] mean_loss : 5.05, Perplexity : 155.79\n",
      "[6/100] mean_loss : 4.95, Perplexity : 141.39\n",
      "[7/100] mean_loss : 4.86, Perplexity : 129.18\n",
      "[8/100] mean_loss : 4.78, Perplexity : 119.25\n",
      "[9/100] mean_loss : 4.71, Perplexity : 111.50\n",
      "[10/100] mean_loss : 4.65, Perplexity : 104.52\n",
      "[11/100] mean_loss : 4.59, Perplexity : 98.85\n",
      "[12/100] mean_loss : 4.55, Perplexity : 94.18\n",
      "[13/100] mean_loss : 4.50, Perplexity : 89.98\n",
      "[14/100] mean_loss : 4.46, Perplexity : 86.30\n",
      "[15/100] mean_loss : 4.42, Perplexity : 82.77\n",
      "[16/100] mean_loss : 4.39, Perplexity : 80.37\n",
      "[17/100] mean_loss : 4.35, Perplexity : 77.69\n",
      "[18/100] mean_loss : 4.33, Perplexity : 76.13\n",
      "[19/100] mean_loss : 4.31, Perplexity : 74.27\n",
      "[20/100] mean_loss : 4.28, Perplexity : 72.32\n",
      "[21/100] mean_loss : 4.26, Perplexity : 70.79\n",
      "[22/100] mean_loss : 4.24, Perplexity : 69.27\n",
      "[23/100] mean_loss : 4.23, Perplexity : 68.72\n",
      "[24/100] mean_loss : 4.21, Perplexity : 67.11\n",
      "[25/100] mean_loss : 4.26, Perplexity : 70.73\n",
      "[26/100] mean_loss : 4.18, Perplexity : 65.15\n",
      "[27/100] mean_loss : 4.18, Perplexity : 65.11\n",
      "[28/100] mean_loss : 4.18, Perplexity : 65.12\n",
      "[29/100] mean_loss : 4.17, Perplexity : 64.48\n",
      "[30/100] mean_loss : 4.18, Perplexity : 65.18\n",
      "[31/100] mean_loss : 4.10, Perplexity : 60.47\n",
      "[32/100] mean_loss : 4.10, Perplexity : 60.59\n",
      "[33/100] mean_loss : 4.08, Perplexity : 59.43\n",
      "[34/100] mean_loss : 4.08, Perplexity : 58.87\n",
      "[35/100] mean_loss : 4.07, Perplexity : 58.84\n",
      "[36/100] mean_loss : 4.10, Perplexity : 60.23\n",
      "[37/100] mean_loss : 4.03, Perplexity : 56.43\n",
      "[38/100] mean_loss : 4.03, Perplexity : 56.16\n",
      "[39/100] mean_loss : 4.01, Perplexity : 55.26\n",
      "[40/100] mean_loss : 4.16, Perplexity : 64.19\n",
      "[41/100] mean_loss : 4.05, Perplexity : 57.22\n",
      "[42/100] mean_loss : 4.05, Perplexity : 57.58\n",
      "[43/100] mean_loss : 4.05, Perplexity : 57.64\n",
      "[44/100] mean_loss : 4.16, Perplexity : 63.93\n",
      "[45/100] mean_loss : 4.16, Perplexity : 64.30\n",
      "[46/100] mean_loss : 4.04, Perplexity : 56.73\n",
      "[47/100] mean_loss : 4.09, Perplexity : 59.71\n",
      "[48/100] mean_loss : 4.39, Perplexity : 80.89\n",
      "[49/100] mean_loss : 4.02, Perplexity : 55.86\n",
      "[50/100] mean_loss : 4.35, Perplexity : 77.57\n",
      "[51/100] mean_loss : 4.18, Perplexity : 65.13\n",
      "[52/100] mean_loss : 4.16, Perplexity : 64.14\n",
      "[53/100] mean_loss : 4.33, Perplexity : 76.03\n",
      "[54/100] mean_loss : 4.15, Perplexity : 63.34\n",
      "[55/100] mean_loss : 4.02, Perplexity : 55.79\n",
      "[56/100] mean_loss : 4.00, Perplexity : 54.53\n",
      "[57/100] mean_loss : 4.15, Perplexity : 63.51\n",
      "[58/100] mean_loss : 3.99, Perplexity : 54.07\n",
      "[59/100] mean_loss : 4.03, Perplexity : 56.37\n",
      "[60/100] mean_loss : 4.19, Perplexity : 66.15\n",
      "[61/100] mean_loss : 3.98, Perplexity : 53.54\n",
      "[62/100] mean_loss : 4.02, Perplexity : 55.46\n",
      "[63/100] mean_loss : 3.95, Perplexity : 52.13\n",
      "[64/100] mean_loss : 4.29, Perplexity : 72.66\n",
      "[65/100] mean_loss : 4.28, Perplexity : 72.22\n",
      "[66/100] mean_loss : 4.08, Perplexity : 59.20\n",
      "[67/100] mean_loss : 3.99, Perplexity : 53.93\n",
      "[68/100] mean_loss : 4.18, Perplexity : 65.10\n",
      "[69/100] mean_loss : 3.91, Perplexity : 50.07\n",
      "[70/100] mean_loss : 3.92, Perplexity : 50.57\n",
      "[71/100] mean_loss : 4.08, Perplexity : 59.09\n",
      "[72/100] mean_loss : 4.16, Perplexity : 64.02\n",
      "[73/100] mean_loss : 4.11, Perplexity : 61.06\n",
      "[74/100] mean_loss : 3.90, Perplexity : 49.20\n",
      "[75/100] mean_loss : 3.90, Perplexity : 49.44\n",
      "[76/100] mean_loss : 4.36, Perplexity : 78.41\n",
      "[77/100] mean_loss : 3.92, Perplexity : 50.28\n",
      "[78/100] mean_loss : 4.01, Perplexity : 55.20\n",
      "[79/100] mean_loss : 3.88, Perplexity : 48.31\n",
      "[80/100] mean_loss : 4.23, Perplexity : 68.88\n",
      "[81/100] mean_loss : 4.06, Perplexity : 58.05\n",
      "[82/100] mean_loss : 4.04, Perplexity : 57.09\n",
      "[83/100] mean_loss : 4.03, Perplexity : 56.40\n",
      "[84/100] mean_loss : 4.30, Perplexity : 73.98\n",
      "[85/100] mean_loss : 4.42, Perplexity : 83.01\n",
      "[86/100] mean_loss : 4.13, Perplexity : 61.96\n",
      "[87/100] mean_loss : 3.98, Perplexity : 53.71\n",
      "[88/100] mean_loss : 4.00, Perplexity : 54.61\n",
      "[89/100] mean_loss : 3.90, Perplexity : 49.63\n",
      "[90/100] mean_loss : 3.86, Perplexity : 47.64\n",
      "[91/100] mean_loss : 4.01, Perplexity : 54.87\n",
      "[92/100] mean_loss : 3.95, Perplexity : 51.83\n",
      "[93/100] mean_loss : 3.86, Perplexity : 47.63\n",
      "[94/100] mean_loss : 3.91, Perplexity : 49.84\n",
      "[95/100] mean_loss : 4.02, Perplexity : 55.56\n",
      "[96/100] mean_loss : 3.89, Perplexity : 48.84\n",
      "[97/100] mean_loss : 3.98, Perplexity : 53.52\n",
      "[98/100] mean_loss : 3.90, Perplexity : 49.64\n",
      "[99/100] mean_loss : 4.14, Perplexity : 62.60\n"
     ]
    }
   ],
   "source": [
    "for epoch in range(EPOCH):\n",
    "    losses=[]\n",
    "    hidden = model.init_hidden(BATCH_SIZE)\n",
    "    for i in range(0, train_data.size(1) - SEQ_LENGTH, SEQ_LENGTH):\n",
    "        inputs = Variable(train_data[:, i:i+SEQ_LENGTH])\n",
    "        targets = Variable(train_data[:, (i+1):(i+1)+SEQ_LENGTH].contiguous())\n",
    "        \n",
    "        hidden = model.detach_hidden(hidden)\n",
    "        model.zero_grad()\n",
    "        preds,hidden = model(inputs,hidden,True)\n",
    "\n",
    "        loss = loss_function(preds,targets.view(-1))\n",
    "        losses.append(loss.data.tolist()[0])\n",
    "        loss.backward()\n",
    "        torch.nn.utils.clip_grad_norm(model.parameters(),0.5) # gradient clipping\n",
    "        optimizer.step()\n",
    "    \n",
    "    if epoch>0:\n",
    "        print(\"[%d/%d] mean_loss : %0.2f, Perplexity : %0.2f\" % (epoch,EPOCH, \\\n",
    "                                                                                              np.mean(losses),np.exp(np.mean(losses))))\n"
   ]
  },
  {
   "cell_type": "markdown",
   "metadata": {},
   "source": [
    "### Test "
   ]
  },
  {
   "cell_type": "code",
   "execution_count": 18,
   "metadata": {
    "collapsed": false
   },
   "outputs": [
    {
     "name": "stdout",
     "output_type": "stream",
     "text": [
      "Test Perpelexity : 9673.71\n"
     ]
    }
   ],
   "source": [
    "total_loss = 0\n",
    "hidden = model.init_hidden(BATCH_SIZE//2)\n",
    "losses=[]\n",
    "for i in range(0, test_data.size(1) - SEQ_LENGTH, SEQ_LENGTH):\n",
    "    inputs = Variable(test_data[:, i:i+SEQ_LENGTH],volatile=True)\n",
    "    targets = Variable(test_data[:, (i+1):(i+1)+SEQ_LENGTH].contiguous())\n",
    "        \n",
    "    hidden = model.detach_hidden(hidden)\n",
    "    model.zero_grad()\n",
    "    preds,hidden = model(inputs,hidden)\n",
    "\n",
    "    losses.append(loss_function(preds,targets.view(-1)).data.tolist()[0])\n",
    "\n",
    "print(\"Test Perpelexity : %5.2f\" % (np.exp(np.mean(losses))))"
   ]
  },
  {
   "cell_type": "code",
   "execution_count": null,
   "metadata": {
    "collapsed": true
   },
   "outputs": [],
   "source": []
  }
 ],
 "metadata": {
  "kernelspec": {
   "display_name": "Python 3",
   "language": "python",
   "name": "python3"
  },
  "language_info": {
   "codemirror_mode": {
    "name": "ipython",
    "version": 3
   },
   "file_extension": ".py",
   "mimetype": "text/x-python",
   "name": "python",
   "nbconvert_exporter": "python",
   "pygments_lexer": "ipython3",
   "version": "3.5.2"
  }
 },
 "nbformat": 4,
 "nbformat_minor": 2
}
