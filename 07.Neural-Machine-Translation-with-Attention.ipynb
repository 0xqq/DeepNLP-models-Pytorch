{
 "cells": [
  {
   "cell_type": "markdown",
   "metadata": {},
   "source": [
    "# 7. Neural Machine Translation and Models with Attention"
   ]
  },
  {
   "cell_type": "markdown",
   "metadata": {},
   "source": [
    "* http://web.stanford.edu/class/cs224n/lectures/cs224n-2017-lecture9.pdf\n",
    "* http://web.stanford.edu/class/cs224n/lectures/cs224n-2017-lecture10.pdf\n",
    "* https://arxiv.org/pdf/1409.0473.pdf"
   ]
  },
  {
   "cell_type": "code",
   "execution_count": 1,
   "metadata": {
    "collapsed": true
   },
   "outputs": [],
   "source": [
    "import torch\n",
    "import torch.nn as nn\n",
    "from torch.autograd import Variable\n",
    "import torch.optim as optim\n",
    "import torch.nn.functional as F\n",
    "import nltk\n",
    "import random\n",
    "import numpy as np\n",
    "from collections import Counter, OrderedDict\n",
    "import nltk\n",
    "from copy import deepcopy\n",
    "import os\n",
    "flatten = lambda l: [item for sublist in l for item in sublist]"
   ]
  },
  {
   "cell_type": "code",
   "execution_count": 2,
   "metadata": {
    "collapsed": true
   },
   "outputs": [],
   "source": [
    "USE_CUDA = torch.cuda.is_available()\n",
    "\n",
    "FloatTensor = torch.cuda.FloatTensor if USE_CUDA else torch.FloatTensor\n",
    "LongTensor = torch.cuda.LongTensor if USE_CUDA else torch.LongTensor\n",
    "ByteTensor = torch.cuda.ByteTensor if USE_CUDA else torch.ByteTensor"
   ]
  },
  {
   "cell_type": "code",
   "execution_count": 3,
   "metadata": {
    "collapsed": true
   },
   "outputs": [],
   "source": [
    "def getBatch(batch_size,train_data):\n",
    "    random.shuffle(train_data)\n",
    "    sindex=0\n",
    "    eindex=batch_size\n",
    "    while eindex < len(train_data):\n",
    "        batch = train_data[sindex:eindex]\n",
    "        temp = eindex\n",
    "        eindex = eindex+batch_size\n",
    "        sindex = temp\n",
    "        yield batch\n",
    "    \n",
    "    if eindex >= len(train_data):\n",
    "        batch = train_data[sindex:]\n",
    "        yield batch"
   ]
  },
  {
   "cell_type": "code",
   "execution_count": 4,
   "metadata": {
    "collapsed": true
   },
   "outputs": [],
   "source": [
    "def pad_to_batch(batch,x_to_ix,y_to_ix):\n",
    "    x,y = list(zip(*batch))\n",
    "    max_x = max([s.size(1) for s in x])\n",
    "    max_y = max([s.size(1) for s in y])\n",
    "    x_p,y_p=[],[]\n",
    "    for i in range(len(batch)):\n",
    "        if x[i].size(1)<max_x:\n",
    "            x_p.append(torch.cat([x[i],Variable(LongTensor([x_to_ix['<PAD>']]*(max_x-x[i].size(1)))).view(1,-1)],1))\n",
    "        else:\n",
    "            x_p.append(x[i])\n",
    "        if y[i].size(1)<max_y:\n",
    "            y_p.append(torch.cat([y[i],Variable(LongTensor([y_to_ix['<PAD>']]*(max_y-y[i].size(1)))).view(1,-1)],1))\n",
    "        else:\n",
    "            y_p.append(y[i])\n",
    "    return torch.cat(x_p),torch.cat(y_p)"
   ]
  },
  {
   "cell_type": "code",
   "execution_count": 5,
   "metadata": {
    "collapsed": true
   },
   "outputs": [],
   "source": [
    "def prepare_sequence(seq, to_index):\n",
    "    idxs = list(map(lambda w: to_index[w] if w in to_index.keys() else to_index[\"<unk>\"], seq))\n",
    "    return Variable(LongTensor(idxs))"
   ]
  },
  {
   "cell_type": "markdown",
   "metadata": {},
   "source": [
    "### Data load and Preprocessing "
   ]
  },
  {
   "cell_type": "markdown",
   "metadata": {},
   "source": [
    "IWSLT'15 English-Vietnamese data(small)"
   ]
  },
  {
   "cell_type": "code",
   "execution_count": 6,
   "metadata": {
    "collapsed": false
   },
   "outputs": [],
   "source": [
    "source_corpus = open('./dataset/iwslt15/train.en','r',encoding='utf-8').readlines()\n",
    "target_corpus = open('./dataset/iwslt15/train.vi','r',encoding='utf-8').readlines()"
   ]
  },
  {
   "cell_type": "code",
   "execution_count": 7,
   "metadata": {
    "collapsed": false
   },
   "outputs": [
    {
     "name": "stdout",
     "output_type": "stream",
     "text": [
      "True\n",
      "133317\n"
     ]
    }
   ],
   "source": [
    "print(len(source_corpus)==len(target_corpus))\n",
    "print(len(source_corpus))"
   ]
  },
  {
   "cell_type": "code",
   "execution_count": 8,
   "metadata": {
    "collapsed": false
   },
   "outputs": [
    {
     "name": "stdout",
     "output_type": "stream",
     "text": [
      "CPU times: user 864 ms, sys: 72 ms, total: 936 ms\n",
      "Wall time: 936 ms\n"
     ]
    }
   ],
   "source": [
    "%%time\n",
    "X_r,y_r=[],[] # raw\n",
    "\n",
    "for parallel in zip(source_corpus,target_corpus):\n",
    "    if parallel[1]=='\\n':continue\n",
    "    so,ta = parallel[0][:-1], parallel[1][:-1]\n",
    "    if so.strip()==\"\" or ta.strip()==\"\": continue\n",
    "    X_r.append(so.split())\n",
    "    y_r.append(ta.split())"
   ]
  },
  {
   "cell_type": "markdown",
   "metadata": {},
   "source": [
    "### Build Vocab"
   ]
  },
  {
   "cell_type": "code",
   "execution_count": 13,
   "metadata": {
    "collapsed": false
   },
   "outputs": [
    {
     "name": "stdout",
     "output_type": "stream",
     "text": [
      "54169 25615\n"
     ]
    }
   ],
   "source": [
    "source_vocab = list(set(flatten(X_r)))\n",
    "target_vocab = list(set(flatten(y_r)))\n",
    "print(len(source_vocab),len(target_vocab))"
   ]
  },
  {
   "cell_type": "markdown",
   "metadata": {},
   "source": [
    "In paper, they limit the source and target vocabulary to the most frequent 15,000 words. <br>\n",
    "There are some problems of softmax operation's complexity to large target. You should determine this hyper-param in practice. \n",
    "We'll deal with this large vocab problem later."
   ]
  },
  {
   "cell_type": "code",
   "execution_count": 15,
   "metadata": {
    "collapsed": true
   },
   "outputs": [],
   "source": [
    "VOCAB_LIMIT = 15000"
   ]
  },
  {
   "cell_type": "code",
   "execution_count": 16,
   "metadata": {
    "collapsed": false
   },
   "outputs": [
    {
     "name": "stdout",
     "output_type": "stream",
     "text": [
      "5000 5000\n"
     ]
    }
   ],
   "source": [
    "source_vocab_count = Counter(flatten(X_r))\n",
    "source_vocab, _ = list(zip(*source_vocab_count.most_common()[:VOCAB_LIMIT]))\n",
    "\n",
    "target_vocab_count = Counter(flatten(y_r))\n",
    "target_vocab, _  = list(zip(*target_vocab_count.most_common()[:VOCAB_LIMIT]))\n",
    "print(len(source_vocab),len(target_vocab))"
   ]
  },
  {
   "cell_type": "code",
   "execution_count": 9,
   "metadata": {
    "collapsed": false
   },
   "outputs": [
    {
     "name": "stdout",
     "output_type": "stream",
     "text": [
      "17191 7709\n"
     ]
    }
   ],
   "source": [
    "source_vocab = open('./dataset/iwslt15/vocab.en','r',encoding='utf-8').readlines()\n",
    "source_vocab = [s[:-1] for s in source_vocab]\n",
    "target_vocab = open('./dataset/iwslt15/vocab.vi','r',encoding='utf-8').readlines()\n",
    "target_vocab = [t[:-1] for t in target_vocab]\n",
    "print(len(source_vocab),len(target_vocab))"
   ]
  },
  {
   "cell_type": "code",
   "execution_count": 10,
   "metadata": {
    "collapsed": true
   },
   "outputs": [],
   "source": [
    "source2index = {'<PAD>':0,'<unk>':1,'<s>':2,'</s>':3}\n",
    "for vo in source_vocab:\n",
    "    source2index[vo]=len(source2index)\n",
    "index2source = {v:k for k,v in source2index.items()}\n",
    "\n",
    "target2index = {'<PAD>':0,'<unk>':1,'<s>':2,'</s>':3}\n",
    "for vo in target_vocab:\n",
    "    target2index[vo]=len(target2index)\n",
    "index2target = {v:k for k,v in target2index.items()}"
   ]
  },
  {
   "cell_type": "code",
   "execution_count": 14,
   "metadata": {
    "collapsed": true
   },
   "outputs": [],
   "source": [
    "so_length_dist = Counter([len(x) for x in X_r])\n",
    "ta_length_dist = Counter([len(y) for y in y_r])"
   ]
  },
  {
   "cell_type": "code",
   "execution_count": 15,
   "metadata": {
    "collapsed": false
   },
   "outputs": [
    {
     "name": "stdout",
     "output_type": "stream",
     "text": [
      "[(10, 6305), (9, 6203), (11, 6188), (8, 6086), (12, 6035), (13, 5571), (14, 5426), (7, 5294), (15, 4996), (16, 4721)] [(12, 5180), (11, 5169), (13, 5053), (10, 5041), (14, 4951), (9, 4721), (15, 4720), (16, 4556), (17, 4398), (18, 4285)]\n"
     ]
    }
   ],
   "source": [
    "print(so_length_dist.most_common()[:10],ta_length_dist.most_common()[:10])"
   ]
  },
  {
   "cell_type": "code",
   "execution_count": 12,
   "metadata": {
    "collapsed": true
   },
   "outputs": [],
   "source": [
    "MAX_LENGTH=100 # because of unsufficient memory"
   ]
  },
  {
   "cell_type": "code",
   "execution_count": 13,
   "metadata": {
    "collapsed": false
   },
   "outputs": [
    {
     "name": "stdout",
     "output_type": "stream",
     "text": [
      "CPU times: user 7.84 s, sys: 352 ms, total: 8.19 s\n",
      "Wall time: 8.19 s\n"
     ]
    }
   ],
   "source": [
    "%%time\n",
    "X_p,y_p=[],[]\n",
    "\n",
    "for so,ta in zip(X_r,y_r):\n",
    "    X_p.append(prepare_sequence(so[:MAX_LENGTH],source2index).view(1,-1))\n",
    "    y_p.append(prepare_sequence(ta[:MAX_LENGTH],target2index).view(1,-1))\n",
    "    \n",
    "train_data = list(zip(X_p,y_p))"
   ]
  },
  {
   "cell_type": "markdown",
   "metadata": {},
   "source": [
    "### Modeling "
   ]
  },
  {
   "cell_type": "code",
   "execution_count": 16,
   "metadata": {
    "collapsed": true
   },
   "outputs": [],
   "source": [
    "class Encoder(nn.Module):\n",
    "    def __init__(self, input_size, embedding_size,hidden_size, n_layers=1,bidirec=False):\n",
    "        super(Encoder, self).__init__()\n",
    "        \n",
    "        self.input_size = input_size\n",
    "        self.hidden_size = hidden_size\n",
    "        self.n_layers = n_layers\n",
    "        \n",
    "        self.embedding = nn.Embedding(input_size, embedding_size)\n",
    "        \n",
    "        if bidirec:\n",
    "            self.n_direction = 2 \n",
    "            self.gru = nn.GRU(embedding_size, hidden_size, n_layers, batch_first=True,bidirectional=True)\n",
    "        else:\n",
    "            self.n_direction = 1\n",
    "            self.gru = nn.GRU(embedding_size, hidden_size, n_layers, batch_first=True)\n",
    "    \n",
    "    def init_hidden(self,inputs):\n",
    "        hidden = Variable(torch.zeros(self.n_layers*self.n_direction,inputs.size(0),self.hidden_size))\n",
    "        return hidden.cuda() if USE_CUDA else hidden\n",
    "    \n",
    "    def init_weight(self):\n",
    "        self.embedding.weight = nn.init.xavier_uniform(self.embedding.weight)\n",
    "#         self.gru.weight_hh_l0 = nn.init.xavier_uniform(self.gru.weight_hh_l0)\n",
    "#         self.gru.weight_ih_l0 = nn.init.xavier_uniform(self.gru.weight_ih_l0)\n",
    "    \n",
    "    def forward(self, inputs, input_masking=None):\n",
    "        \"\"\"\n",
    "        inputs : B,T (LongTensor)\n",
    "        input_masking : B,T (ByteTensor) if you don't use zero-padding, leave it at that\n",
    "        \"\"\"\n",
    "        hidden = self.init_hidden(inputs)\n",
    "        \n",
    "        embedded = self.embedding(inputs)\n",
    "        output, hidden = self.gru(embedded, hidden)\n",
    "\n",
    "        real_context=[]\n",
    "        \n",
    "        if type(input_masking)==torch.autograd.variable.Variable:\n",
    "            for i,o in enumerate(output): # B,T,D\n",
    "                real_length = input_masking[i].data.tolist().count(0) # real length\n",
    "                real_context.append(o[real_length-1])\n",
    "            hidden = torch.cat(real_context).view(inputs.size(0),-1).unsqueeze(1)\n",
    "        else:\n",
    "            hidden = torch.cat(hidden,1).unsqueeze(1)\n",
    "        \n",
    "        return output, hidden"
   ]
  },
  {
   "cell_type": "code",
   "execution_count": 17,
   "metadata": {
    "collapsed": true
   },
   "outputs": [],
   "source": [
    "class Decoder(nn.Module):\n",
    "    def __init__(self, input_size, embedding_size, hidden_size, n_layers=1,dropout_p=0.3):\n",
    "        super(Decoder, self).__init__()\n",
    "        \n",
    "        self.hidden_size = hidden_size\n",
    "        self.n_layers = n_layers\n",
    "        \n",
    "        # Define the layers\n",
    "        self.embedding = nn.Embedding(input_size, embedding_size)\n",
    "        self.dropout = nn.Dropout(dropout_p)\n",
    "        \n",
    "        self.gru = nn.GRU(embedding_size+hidden_size, hidden_size, n_layers,batch_first=True)\n",
    "        self.linear = nn.Linear(hidden_size*2, input_size)\n",
    "        self.attn = nn.Linear(self.hidden_size,self.hidden_size) # Attention\n",
    "        \n",
    "    def init_hidden(self,inputs):\n",
    "        hidden = Variable(torch.zeros(self.n_layers,inputs.size(0),self.hidden_size))\n",
    "        return hidden.cuda() if USE_CUDA else hidden\n",
    "    \n",
    "    \n",
    "    def init_weight(self):\n",
    "        self.embedding.weight = nn.init.xavier_uniform(self.embedding.weight)\n",
    "#         self.gru.weight_hh_l0 = nn.init.xavier_uniform(self.gru.weight_hh_l0)\n",
    "#         self.gru.weight_ih_l0 = nn.init.xavier_uniform(self.gru.weight_ih_l0)\n",
    "        self.linear.weight = nn.init.xavier_uniform(self.linear.weight)\n",
    "    \n",
    "    \n",
    "    def Attention(self, hidden, encoder_outputs, encoder_maskings):\n",
    "        \"\"\"\n",
    "        hidden : 1,B,D\n",
    "        encoder_outputs : B,T,D\n",
    "        encoder_maskings : B,T # ByteTensor\n",
    "        \"\"\"\n",
    "        \n",
    "        hidden = hidden.squeeze(0).unsqueeze(2)  # 히든 : (1,B,D) -> (B,D,1)\n",
    "        \n",
    "        batch_size = encoder_outputs.size(0) # B\n",
    "        max_len = encoder_outputs.size(1) # T\n",
    "        energies = self.attn(encoder_outputs.contiguous().view(batch_size*max_len,-1)) # B*T,D -> B*T,D\n",
    "        energies = energies.view(batch_size,max_len,-1) # B,T,D\n",
    "        attn_energies = energies.bmm(hidden).transpose(1,2) # B,T,D * B,D,1 --> B,1,T\n",
    "        \n",
    "        if type(encoder_maskings)==torch.autograd.variable.Variable:\n",
    "            attn_energies = attn_energies.squeeze(1).masked_fill(encoder_maskings,-1e12) # PAD masking\n",
    "\n",
    "        alpha = F.softmax(attn_energies) # B,T\n",
    "        alpha = alpha.unsqueeze(1) # B,1,T\n",
    "        context = alpha.bmm(encoder_outputs) # B,1,T * B,T,D => B,1,D\n",
    "        \n",
    "        return context # B,1,D\n",
    "    \n",
    "    \n",
    "    def forward(self,inputs,context,max_length,encoder_outputs,encoder_maskings=None,training=False):\n",
    "        \"\"\"\n",
    "        inputs : B,1 (LongTensor, START SYMBOL)\n",
    "        context : B,1,D (FloatTensor, Last encoder hidden state)\n",
    "        encoder_outputs : B,T,D\n",
    "        encoder_maskings : B,T # ByteTensor\n",
    "        max_length : int, max length to decode\n",
    "        training : bool, this is because adapt dropout only training step.\n",
    "        \"\"\"\n",
    "        # Get the embedding of the current input word\n",
    "        embedded = self.embedding(inputs)\n",
    "        hidden = self.init_hidden(inputs)\n",
    "        if training:\n",
    "            embedded = self.dropout(embedded)\n",
    "        \n",
    "        decode=[]\n",
    "        # Apply GRU to the output so far\n",
    "        for i in range(max_length):\n",
    "\n",
    "            _, hidden = self.gru(torch.cat((embedded,context),2), hidden) # h_t = f(h_{t-1},y_{t-1},c)\n",
    "            concated = torch.cat((hidden,context.transpose(0,1)),2) # y_t = g(h_t,y_{t-1},c)\n",
    "            score = self.linear(concated.squeeze(0))\n",
    "            softmaxed = F.log_softmax(score)\n",
    "            decode.append(softmaxed)\n",
    "            decoded = softmaxed.max(1)[1]\n",
    "            embedded = self.embedding(decoded).unsqueeze(1) # y_{t-1}\n",
    "            if training:\n",
    "                embedded = self.dropout(embedded)\n",
    "            \n",
    "            # compute next context vector using attention\n",
    "            context = self.Attention(hidden[0], encoder_outputs,encoder_maskings) \n",
    "        #  column-wise concat, reshape!!\n",
    "        scores = torch.cat(decode,1)\n",
    "        return scores.view(inputs.size(0)*max_length,-1)"
   ]
  },
  {
   "cell_type": "markdown",
   "metadata": {},
   "source": [
    "### Train "
   ]
  },
  {
   "cell_type": "markdown",
   "metadata": {},
   "source": [
    "It takes for a while..."
   ]
  },
  {
   "cell_type": "code",
   "execution_count": 19,
   "metadata": {
    "collapsed": true
   },
   "outputs": [],
   "source": [
    "STEP=50\n",
    "BATCH_SIZE = 32\n",
    "EMBEDDING_SIZE = 100\n",
    "HIDDEN_SIZE = 256\n",
    "LR = 1e-3"
   ]
  },
  {
   "cell_type": "code",
   "execution_count": 20,
   "metadata": {
    "collapsed": false
   },
   "outputs": [],
   "source": [
    "encoder = Encoder(len(source2index),EMBEDDING_SIZE,HIDDEN_SIZE,1,True)\n",
    "decoder = Decoder(len(target2index),EMBEDDING_SIZE,HIDDEN_SIZE*2)\n",
    "encoder.init_weight()\n",
    "decoder.init_weight()\n",
    "\n",
    "if USE_CUDA:\n",
    "    encoder = encoder.cuda()\n",
    "    decoder = decoder.cuda()\n",
    "\n",
    "loss_function = nn.CrossEntropyLoss(ignore_index=0)\n",
    "enc_optimizer = optim.Adam(encoder.parameters(),lr=LR)\n",
    "dec_optimizer = optim.Adam(decoder.parameters(),lr=LR)"
   ]
  },
  {
   "cell_type": "code",
   "execution_count": 21,
   "metadata": {
    "collapsed": false
   },
   "outputs": [
    {
     "name": "stdout",
     "output_type": "stream",
     "text": [
      "[0/50] [0/4161] mean_loss : 8.95\n",
      "[0/50] [1000/4161] mean_loss : 6.20\n",
      "[0/50] [2000/4161] mean_loss : 5.68\n",
      "[0/50] [3000/4161] mean_loss : 5.31\n",
      "[0/50] [4000/4161] mean_loss : 5.06\n",
      "[1/50] [0/4161] mean_loss : 4.88\n",
      "[1/50] [1000/4161] mean_loss : 4.76\n",
      "[1/50] [2000/4161] mean_loss : 4.67\n",
      "[1/50] [3000/4161] mean_loss : 4.58\n",
      "[1/50] [4000/4161] mean_loss : 4.52\n",
      "[2/50] [0/4161] mean_loss : 4.33\n",
      "[2/50] [1000/4161] mean_loss : 4.29\n",
      "[2/50] [2000/4161] mean_loss : 4.29\n",
      "[2/50] [3000/4161] mean_loss : 4.27\n",
      "[2/50] [4000/4161] mean_loss : 4.26\n",
      "[3/50] [0/4161] mean_loss : 3.75\n",
      "[3/50] [1000/4161] mean_loss : 4.04\n",
      "[3/50] [2000/4161] mean_loss : 4.06\n",
      "[3/50] [3000/4161] mean_loss : 4.08\n",
      "[3/50] [4000/4161] mean_loss : 4.09\n",
      "[4/50] [0/4161] mean_loss : 3.98\n",
      "[4/50] [1000/4161] mean_loss : 3.88\n",
      "[4/50] [2000/4161] mean_loss : 3.91\n",
      "[4/50] [3000/4161] mean_loss : 3.94\n",
      "[4/50] [4000/4161] mean_loss : 3.96\n",
      "[5/50] [0/4161] mean_loss : 3.66\n",
      "[5/50] [1000/4161] mean_loss : 3.75\n",
      "[5/50] [2000/4161] mean_loss : 3.80\n",
      "[5/50] [3000/4161] mean_loss : 3.82\n",
      "[5/50] [4000/4161] mean_loss : 3.86\n",
      "[6/50] [0/4161] mean_loss : 3.64\n",
      "[6/50] [1000/4161] mean_loss : 3.66\n",
      "[6/50] [2000/4161] mean_loss : 3.70\n",
      "[6/50] [3000/4161] mean_loss : 3.73\n",
      "[6/50] [4000/4161] mean_loss : 3.76\n",
      "[7/50] [0/4161] mean_loss : 3.60\n",
      "[7/50] [1000/4161] mean_loss : 3.58\n",
      "[7/50] [2000/4161] mean_loss : 3.62\n",
      "[7/50] [3000/4161] mean_loss : 3.66\n",
      "[7/50] [4000/4161] mean_loss : 3.67\n",
      "[8/50] [0/4161] mean_loss : 3.55\n",
      "[8/50] [1000/4161] mean_loss : 3.51\n",
      "[8/50] [2000/4161] mean_loss : 3.56\n",
      "[8/50] [3000/4161] mean_loss : 3.59\n",
      "[8/50] [4000/4161] mean_loss : 3.61\n",
      "[9/50] [0/4161] mean_loss : 3.41\n",
      "[9/50] [1000/4161] mean_loss : 3.45\n",
      "[9/50] [2000/4161] mean_loss : 3.50\n",
      "[9/50] [3000/4161] mean_loss : 3.53\n",
      "[9/50] [4000/4161] mean_loss : 3.56\n",
      "[10/50] [0/4161] mean_loss : 3.58\n",
      "[10/50] [1000/4161] mean_loss : 3.40\n",
      "[10/50] [2000/4161] mean_loss : 3.43\n",
      "[10/50] [3000/4161] mean_loss : 3.49\n",
      "[10/50] [4000/4161] mean_loss : 3.51\n",
      "[11/50] [0/4161] mean_loss : 3.23\n",
      "[11/50] [1000/4161] mean_loss : 3.36\n",
      "[11/50] [2000/4161] mean_loss : 3.41\n",
      "[11/50] [3000/4161] mean_loss : 3.43\n",
      "[11/50] [4000/4161] mean_loss : 3.46\n",
      "[12/50] [0/4161] mean_loss : 3.49\n",
      "[12/50] [1000/4161] mean_loss : 3.31\n",
      "[12/50] [2000/4161] mean_loss : 3.36\n",
      "[12/50] [3000/4161] mean_loss : 3.40\n",
      "[12/50] [4000/4161] mean_loss : 3.42\n",
      "[13/50] [0/4161] mean_loss : 3.31\n",
      "[13/50] [1000/4161] mean_loss : 3.28\n",
      "[13/50] [2000/4161] mean_loss : 3.32\n",
      "[13/50] [3000/4161] mean_loss : 3.35\n",
      "[13/50] [4000/4161] mean_loss : 3.38\n",
      "[14/50] [0/4161] mean_loss : 3.52\n",
      "[14/50] [1000/4161] mean_loss : 3.25\n",
      "[14/50] [2000/4161] mean_loss : 3.28\n",
      "[14/50] [3000/4161] mean_loss : 3.32\n",
      "[14/50] [4000/4161] mean_loss : 3.34\n",
      "[15/50] [0/4161] mean_loss : 3.15\n",
      "[15/50] [1000/4161] mean_loss : 3.22\n",
      "[15/50] [2000/4161] mean_loss : 3.25\n",
      "[15/50] [3000/4161] mean_loss : 3.28\n",
      "[15/50] [4000/4161] mean_loss : 3.31\n",
      "[16/50] [0/4161] mean_loss : 3.38\n",
      "[16/50] [1000/4161] mean_loss : 3.19\n",
      "[16/50] [2000/4161] mean_loss : 3.21\n",
      "[16/50] [3000/4161] mean_loss : 3.26\n",
      "[16/50] [4000/4161] mean_loss : 3.29\n",
      "[17/50] [0/4161] mean_loss : 3.35\n",
      "[17/50] [1000/4161] mean_loss : 3.16\n",
      "[17/50] [2000/4161] mean_loss : 3.20\n",
      "[17/50] [3000/4161] mean_loss : 3.22\n",
      "[17/50] [4000/4161] mean_loss : 3.25\n",
      "[18/50] [0/4161] mean_loss : 3.31\n",
      "[18/50] [1000/4161] mean_loss : 3.14\n",
      "[18/50] [2000/4161] mean_loss : 3.16\n",
      "[18/50] [3000/4161] mean_loss : 3.20\n",
      "[18/50] [4000/4161] mean_loss : 3.23\n",
      "[19/50] [0/4161] mean_loss : 3.33\n",
      "[19/50] [1000/4161] mean_loss : 3.10\n",
      "[19/50] [2000/4161] mean_loss : 3.14\n",
      "[19/50] [3000/4161] mean_loss : 3.18\n",
      "[19/50] [4000/4161] mean_loss : 3.21\n",
      "[20/50] [0/4161] mean_loss : 3.01\n",
      "[20/50] [1000/4161] mean_loss : 3.09\n",
      "[20/50] [2000/4161] mean_loss : 3.12\n",
      "[20/50] [3000/4161] mean_loss : 3.15\n",
      "[20/50] [4000/4161] mean_loss : 3.18\n",
      "[21/50] [0/4161] mean_loss : 2.62\n",
      "[21/50] [1000/4161] mean_loss : 3.07\n",
      "[21/50] [2000/4161] mean_loss : 3.10\n",
      "[21/50] [3000/4161] mean_loss : 3.13\n",
      "[21/50] [4000/4161] mean_loss : 3.15\n",
      "[22/50] [0/4161] mean_loss : 3.04\n",
      "[22/50] [1000/4161] mean_loss : 3.04\n",
      "[22/50] [2000/4161] mean_loss : 3.08\n",
      "[22/50] [3000/4161] mean_loss : 3.12\n",
      "[22/50] [4000/4161] mean_loss : 3.14\n",
      "[23/50] [0/4161] mean_loss : 2.82\n",
      "[23/50] [1000/4161] mean_loss : 3.03\n",
      "[23/50] [2000/4161] mean_loss : 3.06\n",
      "[23/50] [3000/4161] mean_loss : 3.09\n",
      "[23/50] [4000/4161] mean_loss : 3.11\n",
      "[24/50] [0/4161] mean_loss : 2.93\n",
      "[24/50] [1000/4161] mean_loss : 3.00\n",
      "[24/50] [2000/4161] mean_loss : 3.04\n",
      "[24/50] [3000/4161] mean_loss : 3.07\n",
      "[24/50] [4000/4161] mean_loss : 3.10\n",
      "[25/50] [0/4161] mean_loss : 2.92\n",
      "[25/50] [1000/4161] mean_loss : 2.99\n",
      "[25/50] [2000/4161] mean_loss : 3.02\n",
      "[25/50] [3000/4161] mean_loss : 3.05\n",
      "[25/50] [4000/4161] mean_loss : 3.09\n",
      "[26/50] [0/4161] mean_loss : 2.85\n",
      "[26/50] [1000/4161] mean_loss : 2.98\n",
      "[26/50] [2000/4161] mean_loss : 3.00\n"
     ]
    },
    {
     "ename": "KeyboardInterrupt",
     "evalue": "",
     "output_type": "error",
     "traceback": [
      "\u001b[0;31m---------------------------------------------------------------------------\u001b[0m",
      "\u001b[0;31mKeyboardInterrupt\u001b[0m                         Traceback (most recent call last)",
      "\u001b[0;32m<ipython-input-21-a785692e9148>\u001b[0m in \u001b[0;36m<module>\u001b[0;34m()\u001b[0m\n\u001b[1;32m     15\u001b[0m         \u001b[0mloss\u001b[0m \u001b[0;34m=\u001b[0m \u001b[0mloss_function\u001b[0m\u001b[0;34m(\u001b[0m\u001b[0mpreds\u001b[0m\u001b[0;34m,\u001b[0m\u001b[0mtargets\u001b[0m\u001b[0;34m.\u001b[0m\u001b[0mview\u001b[0m\u001b[0;34m(\u001b[0m\u001b[0;34m-\u001b[0m\u001b[0;36m1\u001b[0m\u001b[0;34m)\u001b[0m\u001b[0;34m)\u001b[0m\u001b[0;34m\u001b[0m\u001b[0m\n\u001b[1;32m     16\u001b[0m         \u001b[0mlosses\u001b[0m\u001b[0;34m.\u001b[0m\u001b[0mappend\u001b[0m\u001b[0;34m(\u001b[0m\u001b[0mloss\u001b[0m\u001b[0;34m.\u001b[0m\u001b[0mdata\u001b[0m\u001b[0;34m.\u001b[0m\u001b[0mcpu\u001b[0m\u001b[0;34m(\u001b[0m\u001b[0;34m)\u001b[0m\u001b[0;34m.\u001b[0m\u001b[0mnumpy\u001b[0m\u001b[0;34m(\u001b[0m\u001b[0;34m)\u001b[0m\u001b[0;34m[\u001b[0m\u001b[0;36m0\u001b[0m\u001b[0;34m]\u001b[0m \u001b[0;32mif\u001b[0m \u001b[0mUSE_CUDA\u001b[0m \u001b[0;32melse\u001b[0m \u001b[0mloss\u001b[0m\u001b[0;34m.\u001b[0m\u001b[0mdata\u001b[0m\u001b[0;34m.\u001b[0m\u001b[0mnumpy\u001b[0m\u001b[0;34m(\u001b[0m\u001b[0;34m)\u001b[0m\u001b[0;34m[\u001b[0m\u001b[0;36m0\u001b[0m\u001b[0;34m]\u001b[0m \u001b[0;34m)\u001b[0m\u001b[0;34m\u001b[0m\u001b[0m\n\u001b[0;32m---> 17\u001b[0;31m         \u001b[0mloss\u001b[0m\u001b[0;34m.\u001b[0m\u001b[0mbackward\u001b[0m\u001b[0;34m(\u001b[0m\u001b[0;34m)\u001b[0m\u001b[0;34m\u001b[0m\u001b[0m\n\u001b[0m\u001b[1;32m     18\u001b[0m         \u001b[0mtorch\u001b[0m\u001b[0;34m.\u001b[0m\u001b[0mnn\u001b[0m\u001b[0;34m.\u001b[0m\u001b[0mutils\u001b[0m\u001b[0;34m.\u001b[0m\u001b[0mclip_grad_norm\u001b[0m\u001b[0;34m(\u001b[0m\u001b[0mencoder\u001b[0m\u001b[0;34m.\u001b[0m\u001b[0mparameters\u001b[0m\u001b[0;34m(\u001b[0m\u001b[0;34m)\u001b[0m\u001b[0;34m,\u001b[0m \u001b[0;36m0.5\u001b[0m\u001b[0;34m)\u001b[0m \u001b[0;31m# gradient clipping\u001b[0m\u001b[0;34m\u001b[0m\u001b[0m\n\u001b[1;32m     19\u001b[0m         \u001b[0mtorch\u001b[0m\u001b[0;34m.\u001b[0m\u001b[0mnn\u001b[0m\u001b[0;34m.\u001b[0m\u001b[0mutils\u001b[0m\u001b[0;34m.\u001b[0m\u001b[0mclip_grad_norm\u001b[0m\u001b[0;34m(\u001b[0m\u001b[0mdecoder\u001b[0m\u001b[0;34m.\u001b[0m\u001b[0mparameters\u001b[0m\u001b[0;34m(\u001b[0m\u001b[0;34m)\u001b[0m\u001b[0;34m,\u001b[0m \u001b[0;36m0.5\u001b[0m\u001b[0;34m)\u001b[0m \u001b[0;31m# gradient clipping\u001b[0m\u001b[0;34m\u001b[0m\u001b[0m\n",
      "\u001b[0;32m/usr/local/lib/python3.5/dist-packages/torch/autograd/variable.py\u001b[0m in \u001b[0;36mbackward\u001b[0;34m(self, gradient, retain_graph, create_graph, retain_variables)\u001b[0m\n\u001b[1;32m    155\u001b[0m                 \u001b[0mVariable\u001b[0m\u001b[0;34m.\u001b[0m\u001b[0;34m\u001b[0m\u001b[0m\n\u001b[1;32m    156\u001b[0m         \"\"\"\n\u001b[0;32m--> 157\u001b[0;31m         \u001b[0mtorch\u001b[0m\u001b[0;34m.\u001b[0m\u001b[0mautograd\u001b[0m\u001b[0;34m.\u001b[0m\u001b[0mbackward\u001b[0m\u001b[0;34m(\u001b[0m\u001b[0mself\u001b[0m\u001b[0;34m,\u001b[0m \u001b[0mgradient\u001b[0m\u001b[0;34m,\u001b[0m \u001b[0mretain_graph\u001b[0m\u001b[0;34m,\u001b[0m \u001b[0mcreate_graph\u001b[0m\u001b[0;34m,\u001b[0m \u001b[0mretain_variables\u001b[0m\u001b[0;34m)\u001b[0m\u001b[0;34m\u001b[0m\u001b[0m\n\u001b[0m\u001b[1;32m    158\u001b[0m \u001b[0;34m\u001b[0m\u001b[0m\n\u001b[1;32m    159\u001b[0m     \u001b[0;32mdef\u001b[0m \u001b[0mregister_hook\u001b[0m\u001b[0;34m(\u001b[0m\u001b[0mself\u001b[0m\u001b[0;34m,\u001b[0m \u001b[0mhook\u001b[0m\u001b[0;34m)\u001b[0m\u001b[0;34m:\u001b[0m\u001b[0;34m\u001b[0m\u001b[0m\n",
      "\u001b[0;32m/usr/local/lib/python3.5/dist-packages/torch/autograd/__init__.py\u001b[0m in \u001b[0;36mbackward\u001b[0;34m(variables, grad_variables, retain_graph, create_graph, retain_variables)\u001b[0m\n\u001b[1;32m     96\u001b[0m \u001b[0;34m\u001b[0m\u001b[0m\n\u001b[1;32m     97\u001b[0m     Variable._execution_engine.run_backward(\n\u001b[0;32m---> 98\u001b[0;31m         variables, grad_variables, retain_graph)\n\u001b[0m\u001b[1;32m     99\u001b[0m \u001b[0;34m\u001b[0m\u001b[0m\n\u001b[1;32m    100\u001b[0m \u001b[0;34m\u001b[0m\u001b[0m\n",
      "\u001b[0;31mKeyboardInterrupt\u001b[0m: "
     ]
    }
   ],
   "source": [
    "for step in range(STEP):\n",
    "    losses=[]\n",
    "    for i,batch in enumerate(getBatch(BATCH_SIZE,train_data)):\n",
    "        inputs,targets = pad_to_batch(batch,source2index,target2index)\n",
    "        \n",
    "        input_mask = torch.cat([Variable(ByteTensor(tuple(map(lambda s: s ==0, t.data))),volatile=False) for t in inputs]).view(inputs.size(0),-1)\n",
    "        start_decode = Variable(LongTensor([[target2index['<s>']]*targets.size(0)])).transpose(0,1)\n",
    "        \n",
    "        encoder.zero_grad()\n",
    "        decoder.zero_grad()\n",
    "        output, hidden_c = encoder(inputs,input_mask)\n",
    "        \n",
    "        preds = decoder(start_decode,hidden_c,targets.size(1),output,input_mask,True)\n",
    "                                \n",
    "        loss = loss_function(preds,targets.view(-1))\n",
    "        losses.append(loss.data.cpu().numpy()[0] if USE_CUDA else loss.data.numpy()[0] )\n",
    "        loss.backward()\n",
    "        torch.nn.utils.clip_grad_norm(encoder.parameters(), 0.5) # gradient clipping\n",
    "        torch.nn.utils.clip_grad_norm(decoder.parameters(), 0.5) # gradient clipping\n",
    "        enc_optimizer.step()\n",
    "        dec_optimizer.step()\n",
    "\n",
    "    \n",
    "        if i % 1000==0:\n",
    "            print(\"[%d/%d] [%d/%d] mean_loss : %0.2f\" %(step,STEP,i,len(train_data)//BATCH_SIZE,np.mean(losses)))\n",
    "            torch.save(decoder.state_dict(),os.path.join('../','decoder.pkl'))\n",
    "            torch.save(encoder.state_dict(),os.path.join('../', 'encoder.pkl'))\n",
    "            losses=[]"
   ]
  },
  {
   "cell_type": "markdown",
   "metadata": {},
   "source": [
    "### Test"
   ]
  },
  {
   "cell_type": "code",
   "execution_count": 68,
   "metadata": {
    "collapsed": false
   },
   "outputs": [
    {
     "name": "stdout",
     "output_type": "stream",
     "text": [
      "hi\n",
      "USER : hi\n",
      "BOT : i can t know what i don talking about .\n",
      "do you know kimchi?\n",
      "USER : do you know kimchi?\n",
      "BOT : hell ! ! ! the the kimchi !! victoria !\n",
      "do you know Jisung park?\n",
      "USER : do you know Jisung park?\n",
      "BOT : yes . i idea to idea ? about idea ?\n",
      "hmm\n",
      "USER : hmm\n",
      "BOT : it is a matter . i just 't saying .\n",
      "what is your name\n",
      "USER : what is your name\n",
      "BOT : what me t understand :( . i me to discuss\n",
      "fuck you\n",
      "USER : fuck you\n",
      "BOT : yes are are name ? are are are about discuss\n",
      "hell\n",
      "USER : hell\n",
      "BOT : second , go thermodynamics ! the vain , of .\n",
      "you stupid\n",
      "USER : you stupid\n",
      "BOT : i don t know what . i would like .\n",
      "have a good night\n",
      "USER : have a good night\n",
      "BOT : how about we to something to both . about about\n",
      "fuck..\n",
      "USER : fuck..\n",
      "BOT : yeah . i about . your . about . .\n",
      "are you chatbot?\n",
      "USER : are you chatbot?\n",
      "BOT : no ,,!! i 'm... . they by students . i\n",
      "mm\n",
      "USER : mm\n",
      "BOT : you you make the first to your . the iron\n",
      "bye\n",
      "USER : bye\n",
      "BOT : here , ! the ! , . , . ,\n"
     ]
    }
   ],
   "source": [
    "test = random.choice(test_data)\n",
    "input_ = prepare_sequence(tknz.tokenize(test[0].lower()),word2index).view(1,-1)\n",
    "input_mask = Variable(ByteTensor(tuple(map(lambda s: s ==0, input_[0].data)))).view(1,-1)\n",
    "start_decode = Variable(LongTensor([[ta2index['<s>']]*1])).transpose(0,1)\n",
    "o, hidden_c = encoder(input_,input_mask)\n",
    "pred = decoder(start_decode,hidden_c,10)\n",
    "pred = pred.max(1)[1].data.cpu().tolist() if USE_CUDA else pred.max(1)[1].data.tolist()\n",
    "\n",
    "print(' '.join(test[0]))\n",
    "print(' '.join(test[1]))\n",
    "print(' '.join([index2word[t] for t in pred])) "
   ]
  },
  {
   "cell_type": "markdown",
   "metadata": {},
   "source": [
    "because of noisy data, It is hard to converge"
   ]
  },
  {
   "cell_type": "markdown",
   "metadata": {
    "collapsed": true
   },
   "source": [
    "# TODO "
   ]
  },
  {
   "cell_type": "markdown",
   "metadata": {},
   "source": [
    "* 훈련 제대로 시켜야 한다..(메모리 에러 ㅠ)\n",
    "* newstest data로 BLEU 측정\n",
    "* Beam Search"
   ]
  },
  {
   "cell_type": "code",
   "execution_count": 22,
   "metadata": {
    "collapsed": true
   },
   "outputs": [],
   "source": [
    "test_en = open('../dataset/iwslt15/tst2012.en','r',encoding='utf-8').readlines()\n",
    "test_vi = open('../dataset/iwslt15/tst2012.vi','r',encoding='utf-8').readlines()"
   ]
  },
  {
   "cell_type": "code",
   "execution_count": 23,
   "metadata": {
    "collapsed": false
   },
   "outputs": [
    {
     "data": {
      "text/plain": [
       "1553"
      ]
     },
     "execution_count": 23,
     "metadata": {},
     "output_type": "execute_result"
    }
   ],
   "source": [
    "len(test_en)"
   ]
  },
  {
   "cell_type": "code",
   "execution_count": 24,
   "metadata": {
    "collapsed": false
   },
   "outputs": [
    {
     "data": {
      "text/plain": [
       "1553"
      ]
     },
     "execution_count": 24,
     "metadata": {},
     "output_type": "execute_result"
    }
   ],
   "source": [
    "len(test_vi)"
   ]
  },
  {
   "cell_type": "code",
   "execution_count": null,
   "metadata": {
    "collapsed": true
   },
   "outputs": [],
   "source": []
  }
 ],
 "metadata": {
  "kernelspec": {
   "display_name": "Python 3",
   "language": "python",
   "name": "python3"
  },
  "language_info": {
   "codemirror_mode": {
    "name": "ipython",
    "version": 3
   },
   "file_extension": ".py",
   "mimetype": "text/x-python",
   "name": "python",
   "nbconvert_exporter": "python",
   "pygments_lexer": "ipython3",
   "version": "3.5.2"
  }
 },
 "nbformat": 4,
 "nbformat_minor": 2
}
